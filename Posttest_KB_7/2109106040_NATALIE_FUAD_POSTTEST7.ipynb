{
 "cells": [
  {
   "cell_type": "markdown",
   "id": "1a008dfc-ccfc-46a9-b0e5-cabe443bd41d",
   "metadata": {},
   "source": [
    "#### -----------------------------------------------------------------------------------------------------------------------------------\n",
    "### NAMA    : Natalie Fuad\n",
    "### NIM     : 2109106040\n",
    "\n",
    "####\n",
    "### POSTTEST 7 - TENSORFLOW\n",
    "#### -----------------------------------------------------------------------------------------------------------------------------------"
   ]
  },
  {
   "cell_type": "markdown",
   "id": "06eb7eb3-251d-42d8-a53f-8e6f52ee2c7c",
   "metadata": {},
   "source": [
    "## Import library tensorflow"
   ]
  },
  {
   "cell_type": "code",
   "execution_count": 5,
   "id": "e7d82a28-1a7a-4c38-810a-190a43d1a572",
   "metadata": {},
   "outputs": [],
   "source": [
    "import tensorflow as tf"
   ]
  },
  {
   "cell_type": "markdown",
   "id": "0fea2152-ca77-4f6e-ae46-bd1cad52e9fb",
   "metadata": {},
   "source": [
    "# Lakukan beberapa point berikut:\n",
    "## --------------------------------------------------------------------------------------------------------------------\n",
    "#### - Buatlah sebuah tensor dengan shape(5,5) dengan nilai random yang disimpan dalam variable random_tensor\n",
    "#### - Buatlah sebuah tensor dengan shape(5,5) dari sebuah list dengan nilai bilangan prima dalam variable prime_tensor\n",
    "#### - Tampilkan dimensi dari kedua variable tersebut\n",
    "#### - Tampilkan hasil dari perhitungan aritmetika 2 variable tersebut (Gunakan minimal 5 operator)\n",
    "#### - Tampilkan nilai maksimal dan minimal dari variable random_tensor\n",
    "#### - Tampilkan hasil dari penggabungan variable random_tensor dengan prime_tensor (concatenation)\n",
    "#### - Tampilkan hasil sorting dari kedua variable di atas. (descending)\n",
    "## --------------------------------------------------------------------------------------------------------------------"
   ]
  },
  {
   "cell_type": "markdown",
   "id": "0bab8a89-7f5d-43f0-ac0a-689831dda017",
   "metadata": {},
   "source": [
    "### Buatlah sebuah tensor dengan shape(5,5) dengan nilai random yang disimpan dalam variable random_tensor\n",
    "### --------------------------------------------------------------------------------------------------------------------"
   ]
  },
  {
   "cell_type": "code",
   "execution_count": 67,
   "id": "1c7d2c8d-b768-4f2f-9e4a-dcb8e0e8d320",
   "metadata": {},
   "outputs": [
    {
     "name": "stdout",
     "output_type": "stream",
     "text": [
      "\n",
      "----------    ++    -------------    ++    ----------\n",
      "\n",
      "          Tensor Dari Variable random Tensor\n",
      "\n",
      "----------    ++    -------------    ++    ----------\n",
      "\n",
      "tf.Tensor(\n",
      "[[-0.3744468   0.61860144 -0.6192134   0.9124507   0.6950061 ]\n",
      " [-0.17951003 -0.37561563 -0.1350087   0.6676718   0.4242158 ]\n",
      " [-0.31347093 -0.27241856  1.1854254   0.34320396  1.4505777 ]\n",
      " [-0.29796734 -1.4172324   0.6069386  -1.4060947  -0.8780423 ]\n",
      " [-0.4037651   0.37089893 -1.0725715  -0.7477049  -1.1893758 ]], shape=(5, 5), dtype=float32) \n",
      "\n",
      "----------    ++    -------------    ++    ----------\n",
      "\n"
     ]
    }
   ],
   "source": [
    "random_tensor = tf.random.normal([5,5], seed = 1)\n",
    "\n",
    "print(\"\\n----------    ++    -------------    ++    ----------\")\n",
    "print(\"\\n          Tensor Dari Variable random Tensor\\n\")\n",
    "print(\"----------    ++    -------------    ++    ----------\\n\")\n",
    "print(random_tensor, \"\\n\\n----------    ++    -------------    ++    ----------\\n\")"
   ]
  },
  {
   "cell_type": "markdown",
   "id": "1df39509-62e8-440b-880e-12b3277d6efa",
   "metadata": {},
   "source": [
    "### --------------------------------------------------------------------------------------------------------------------\n",
    "### Buatlah sebuah tensor dengan shape(5,5) dari sebuah list dengan nilai bilangan prima dalam variable prime_tensor\n",
    "### --------------------------------------------------------------------------------------------------------------------"
   ]
  },
  {
   "cell_type": "code",
   "execution_count": 66,
   "id": "34d05c49-c2ad-4786-a138-7712c47bf80f",
   "metadata": {},
   "outputs": [
    {
     "name": "stdout",
     "output_type": "stream",
     "text": [
      "\n",
      "----------    ++    -------------    ++    ----------\n",
      "\n",
      "          Tensor Dari Variable Prime Tensor\n",
      "\n",
      "----------    ++    -------------    ++    ----------\n",
      "\n",
      "tf.Tensor(\n",
      "[[ 2.  3.  5.  7. 11.]\n",
      " [13. 17. 19. 23. 29.]\n",
      " [31. 37. 41. 43. 47.]\n",
      " [53. 59. 61. 67. 71.]\n",
      " [73. 79. 83. 89. 97.]], shape=(5, 5), dtype=float32) \n",
      "\n",
      "----------    ++    -------------    ++    ----------\n",
      "\n"
     ]
    }
   ],
   "source": [
    "listTensor = [2, 3, 5, 7, 11]\n",
    "listTensor1 = [13, 17, 19, 23, 29]\n",
    "listTensor2 = [31, 37, 41, 43, 47]\n",
    "listTensor3 = [53, 59, 61, 67, 71]\n",
    "listTensor4 = [73, 79, 83, 89, 97]\n",
    "prime_tensor = tf.convert_to_tensor([listTensor, listTensor1, listTensor2, listTensor3, listTensor4], dtype = tf.float32)\n",
    "\n",
    "print(\"\\n----------    ++    -------------    ++    ----------\")\n",
    "print(\"\\n          Tensor Dari Variable Prime Tensor\\n\")\n",
    "print(\"----------    ++    -------------    ++    ----------\\n\")\n",
    "print(prime_tensor, \"\\n\\n----------    ++    -------------    ++    ----------\\n\")"
   ]
  },
  {
   "cell_type": "markdown",
   "id": "54ae61c5-0b6c-44f2-8848-f75c0acadb25",
   "metadata": {},
   "source": [
    "### --------------------------------------------------------------------------------------------------------------------\n",
    "### Tampilkan dimensi dari kedua variable tersebut\n",
    "### --------------------------------------------------------------------------------------------------------------------"
   ]
  },
  {
   "cell_type": "code",
   "execution_count": 61,
   "id": "1d3058fe-ed96-48b6-aa10-aafeeb06e5aa",
   "metadata": {},
   "outputs": [
    {
     "name": "stdout",
     "output_type": "stream",
     "text": [
      "\n",
      "----------    ++    -------------    ++    ----------\n",
      "\n",
      "         Dimensi dari variable random tensor\n",
      "\n",
      "----------    ++    -------------    ++    ----------\n",
      "\n",
      "                       (5, 5) \n",
      "\n",
      "----------    ++    -------------    ++    ----------\n",
      "\n"
     ]
    }
   ],
   "source": [
    "print(\"\\n----------    ++    -------------    ++    ----------\")\n",
    "print(\"\\n         Dimensi dari variable random tensor\\n\")\n",
    "print(\"----------    ++    -------------    ++    ----------\\n\")\n",
    "print(\"                      \", random_tensor.shape, \"\\n\\n----------    ++    -------------    ++    ----------\\n\")"
   ]
  },
  {
   "cell_type": "code",
   "execution_count": 63,
   "id": "56fa22bb-6228-49f9-882e-e1cea8338d6d",
   "metadata": {},
   "outputs": [
    {
     "name": "stdout",
     "output_type": "stream",
     "text": [
      "\n",
      "----------    ++    -------------    ++    ----------\n",
      "\n",
      "         Dimensi dari variable prime tensor\n",
      "\n",
      "----------    ++    -------------    ++    ----------\n",
      "\n",
      "                       (5, 5) \n",
      "\n",
      "----------    ++    -------------    ++    ----------\n",
      "\n"
     ]
    }
   ],
   "source": [
    "print(\"\\n----------    ++    -------------    ++    ----------\")\n",
    "print(\"\\n         Dimensi dari variable prime tensor\\n\")\n",
    "print(\"----------    ++    -------------    ++    ----------\\n\")\n",
    "print(\"                      \", prime_tensor.shape, \"\\n\\n----------    ++    -------------    ++    ----------\\n\")"
   ]
  },
  {
   "cell_type": "markdown",
   "id": "03f5d5c6-29d7-4afe-a8f9-63bc0a3cd13e",
   "metadata": {},
   "source": [
    "### --------------------------------------------------------------------------------------------------------------------\n",
    "### Tampilkan hasil dari perhitungan aritmetika 2 variable tersebut (Gunakan minimal 5 operator)\n",
    "### --------------------------------------------------------------------------------------------------------------------\n",
    "#### (Pertambahan, Perkalian, Pembagian, Logaritma, dan Pangkat)"
   ]
  },
  {
   "cell_type": "markdown",
   "id": "f5c7b196-62aa-4115-8560-e01fbcc707fd",
   "metadata": {},
   "source": [
    "## Pertambahan"
   ]
  },
  {
   "cell_type": "code",
   "execution_count": 70,
   "id": "cf11f2c7-50a4-470e-a74f-413255d7814e",
   "metadata": {},
   "outputs": [
    {
     "name": "stdout",
     "output_type": "stream",
     "text": [
      "\n",
      "------------------    ++    -------------    ++    ------------------\n",
      "\n",
      "      Hasil Pertambahan Variabel Random tensor dan prime tensor\n",
      "\n",
      "------------------    ++    -------------    ++    ------------------\n",
      "\n",
      "                       tf.Tensor(\n",
      "[[ 1.6255531  3.6186013  4.3807864  7.912451  11.695006 ]\n",
      " [12.82049   16.624384  18.864992  23.667671  29.424215 ]\n",
      " [30.68653   36.72758   42.185425  43.343204  48.450577 ]\n",
      " [52.702034  57.582767  61.606937  65.5939    70.121956 ]\n",
      " [72.59624   79.370895  81.92743   88.2523    95.81062  ]], shape=(5, 5), dtype=float32) \n",
      "\n",
      "------------------    ++    -------------    ++    ------------------\n",
      "\n"
     ]
    }
   ],
   "source": [
    "pertambahan = tf.add(random_tensor, prime_tensor)\n",
    "\n",
    "print(\"\\n------------------    ++    -------------    ++    ------------------\")\n",
    "print(\"\\n      Hasil Pertambahan Variabel Random tensor dan prime tensor\\n\")\n",
    "print(\"------------------    ++    -------------    ++    ------------------\\n\")\n",
    "print(\"                      \", pertambahan, \"\\n\\n------------------    ++    -------------    ++    ------------------\\n\")"
   ]
  },
  {
   "cell_type": "markdown",
   "id": "6f372028-a23c-44e8-9f44-56b82325b757",
   "metadata": {},
   "source": [
    "## Perkalian"
   ]
  },
  {
   "cell_type": "code",
   "execution_count": 71,
   "id": "9c708c6e-6be4-4ca1-b101-74de6ecbfe7b",
   "metadata": {},
   "outputs": [
    {
     "name": "stdout",
     "output_type": "stream",
     "text": [
      "\n",
      "------------------    ++    -------------    ++    ------------------\n",
      "\n",
      "      Hasil Perkalian Variabel Random tensor dan prime tensor\n",
      "\n",
      "------------------    ++    -------------    ++    ------------------\n",
      "\n",
      "                       tf.Tensor(\n",
      "[[  -0.7488936    1.8558043   -3.096067     6.3871546    7.6450667]\n",
      " [  -2.3336303   -6.3854656   -2.565165    15.356451    12.302258 ]\n",
      " [  -9.717599   -10.079487    48.60244     14.757771    68.177155 ]\n",
      " [ -15.79227    -83.616714    37.023254   -94.20834    -62.341003 ]\n",
      " [ -29.474854    29.301016   -89.02344    -66.54574   -115.369446 ]], shape=(5, 5), dtype=float32) \n",
      "\n",
      "------------------    ++    -------------    ++    ------------------\n",
      "\n"
     ]
    }
   ],
   "source": [
    "perkalian = tf.multiply(random_tensor, prime_tensor)\n",
    "\n",
    "print(\"\\n------------------    ++    -------------    ++    ------------------\")\n",
    "print(\"\\n      Hasil Perkalian Variabel Random tensor dan prime tensor\\n\")\n",
    "print(\"------------------    ++    -------------    ++    ------------------\\n\")\n",
    "print(\"                      \", perkalian, \"\\n\\n------------------    ++    -------------    ++    ------------------\\n\")"
   ]
  },
  {
   "cell_type": "markdown",
   "id": "48eecc5d-e1b5-438e-95c5-53fd5f40c9b8",
   "metadata": {},
   "source": [
    "## Pembagian"
   ]
  },
  {
   "cell_type": "code",
   "execution_count": 72,
   "id": "66aaf182-4cd7-493b-90da-930029baba44",
   "metadata": {},
   "outputs": [
    {
     "name": "stdout",
     "output_type": "stream",
     "text": [
      "\n",
      "------------------    ++    -------------    ++    ------------------\n",
      "\n",
      "      Hasil Pembagian Variabel Random tensor dan prime tensor\n",
      "\n",
      "------------------    ++    -------------    ++    ------------------\n",
      "\n",
      "                       tf.Tensor(\n",
      "[[-0.1872234   0.20620048 -0.12384268  0.1303501   0.06318237]\n",
      " [-0.01380846 -0.02209504 -0.00710572  0.02902921  0.01462813]\n",
      " [-0.01011197 -0.00736266  0.02891281  0.00798149  0.03086336]\n",
      " [-0.00562203 -0.02402089  0.00994981 -0.02098649 -0.01236679]\n",
      " [-0.00553103  0.00469492 -0.01292255 -0.00840118 -0.01226161]], shape=(5, 5), dtype=float32) \n",
      "\n",
      "------------------    ++    -------------    ++    ------------------\n",
      "\n"
     ]
    }
   ],
   "source": [
    "pembagian = tf.divide(random_tensor, prime_tensor)\n",
    "\n",
    "print(\"\\n------------------    ++    -------------    ++    ------------------\")\n",
    "print(\"\\n      Hasil Pembagian Variabel Random tensor dan prime tensor\\n\")\n",
    "print(\"------------------    ++    -------------    ++    ------------------\\n\")\n",
    "print(\"                      \", pembagian, \"\\n\\n------------------    ++    -------------    ++    ------------------\\n\")"
   ]
  },
  {
   "cell_type": "markdown",
   "id": "c6cb5d6a-702f-4b33-aa4a-bd05b639cdd7",
   "metadata": {},
   "source": [
    "## Logaritma"
   ]
  },
  {
   "cell_type": "code",
   "execution_count": 73,
   "id": "4bb38d19-7538-407a-a515-fae36f616521",
   "metadata": {},
   "outputs": [
    {
     "name": "stdout",
     "output_type": "stream",
     "text": [
      "\n",
      "------------------    ++    -------------    ++    ------------------\n",
      "\n",
      "      Hasil Logaritma Variabel Random tensor dan prime tensor\n",
      "\n",
      "------------------    ++    -------------    ++    ------------------\n",
      "\n",
      "                       tf.Tensor(\n",
      "[[        nan -0.4802941          nan -0.09162126 -0.36383468]\n",
      " [        nan         nan         nan -0.40395853 -0.857513  ]\n",
      " [        nan         nan  0.17010169 -1.0694304   0.37196195]\n",
      " [        nan         nan -0.49932766         nan         nan]\n",
      " [        nan -0.9918257          nan         nan         nan]], shape=(5, 5), dtype=float32) \n",
      "\n",
      "------------------    ++    -------------    ++    ------------------\n",
      "\n"
     ]
    }
   ],
   "source": [
    "logaritma = tf.math.log(random_tensor, prime_tensor)\n",
    "\n",
    "print(\"\\n------------------    ++    -------------    ++    ------------------\")\n",
    "print(\"\\n      Hasil Logaritma Variabel Random tensor dan prime tensor\\n\")\n",
    "print(\"------------------    ++    -------------    ++    ------------------\\n\")\n",
    "print(\"                      \", logaritma, \"\\n\\n------------------    ++    -------------    ++    ------------------\\n\")"
   ]
  },
  {
   "cell_type": "markdown",
   "id": "04020a89-9b4e-4c89-8c2f-7d789f37db73",
   "metadata": {},
   "source": [
    "## Pangkat"
   ]
  },
  {
   "cell_type": "code",
   "execution_count": 74,
   "id": "8ae32ede-e640-42e9-b3d0-82f76081e2f9",
   "metadata": {},
   "outputs": [
    {
     "name": "stdout",
     "output_type": "stream",
     "text": [
      "\n",
      "------------------    ++    -------------    ++    ------------------\n",
      "\n",
      "      Hasil Pangkat Variabel Random tensor dan prime tensor\n",
      "\n",
      "------------------    ++    -------------    ++    ------------------\n",
      "\n",
      "                       tf.Tensor(\n",
      "[[ 1.40210420e-01  2.36718819e-01 -9.10336077e-02  5.26581705e-01\n",
      "   1.82757247e-02]\n",
      " [-2.00980191e-10 -5.89714872e-08 -2.99828488e-17  9.22464751e-05\n",
      "   1.58495942e-11]\n",
      " [-2.41054618e-16 -1.26986502e-21  1.06866943e+03  1.06843616e-20\n",
      "   3.91225680e+07]\n",
      " [-1.35188438e-28 -8.61039680e+08  5.91330506e-14 -8.25991680e+09\n",
      "  -9.76327356e-05]\n",
      " [-1.76767207e-29  9.35817252e-35 -3.35258301e+02 -5.78084585e-12\n",
      "  -2.02279100e+07]], shape=(5, 5), dtype=float32) \n",
      "\n",
      "------------------    ++    -------------    ++    ------------------\n",
      "\n"
     ]
    }
   ],
   "source": [
    "pangkat = tf.pow(random_tensor, prime_tensor)\n",
    "\n",
    "print(\"\\n------------------    ++    -------------    ++    ------------------\")\n",
    "print(\"\\n      Hasil Pangkat Variabel Random tensor dan prime tensor\\n\")\n",
    "print(\"------------------    ++    -------------    ++    ------------------\\n\")\n",
    "print(\"                      \", pangkat, \"\\n\\n------------------    ++    -------------    ++    ------------------\\n\")"
   ]
  },
  {
   "cell_type": "markdown",
   "id": "c8a4aa01-b047-40f8-a7da-dae3debd0592",
   "metadata": {},
   "source": [
    "### --------------------------------------------------------------------------------------------------------------------\n",
    "### Tampilkan nilai maksimal dan minimal dari variable random_tensor\n",
    "### --------------------------------------------------------------------------------------------------------------------"
   ]
  },
  {
   "cell_type": "code",
   "execution_count": 78,
   "id": "917b08bf-eba2-49c0-b9f7-fa716d7c1509",
   "metadata": {},
   "outputs": [
    {
     "name": "stdout",
     "output_type": "stream",
     "text": [
      "\n",
      "----------    ++    -------------    ++    ----------\n",
      "\n",
      "         Nilai Maximal Variable Prime Tensor\n",
      "\n",
      "----------    ++    -------------    ++    ----------\n",
      "\n",
      "tf.Tensor([1 0 2 0 2], shape=(5,), dtype=int64) \n",
      "\n",
      "----------    ++    -------------    ++    ----------\n",
      "\n"
     ]
    }
   ],
   "source": [
    "nilaiMax = tf.argmax(random_tensor, axis = 0)\n",
    "\n",
    "print(\"\\n----------    ++    -------------    ++    ----------\")\n",
    "print(\"\\n         Nilai Maximal Variable Prime Tensor\\n\")\n",
    "print(\"----------    ++    -------------    ++    ----------\\n\")\n",
    "print(nilaiMax, \"\\n\\n----------    ++    -------------    ++    ----------\\n\")"
   ]
  },
  {
   "cell_type": "code",
   "execution_count": 79,
   "id": "602e5ed5-61ce-46fa-a762-71379e1d742c",
   "metadata": {},
   "outputs": [
    {
     "name": "stdout",
     "output_type": "stream",
     "text": [
      "\n",
      "----------    ++    -------------    ++    ----------\n",
      "\n",
      "         Nilai Minimal Variable Prime Tensor\n",
      "\n",
      "----------    ++    -------------    ++    ----------\n",
      "\n",
      "tf.Tensor([4 3 4 3 4], shape=(5,), dtype=int64) \n",
      "\n",
      "----------    ++    -------------    ++    ----------\n",
      "\n"
     ]
    }
   ],
   "source": [
    "nilaiMin = tf.argmin(random_tensor, axis = 0)\n",
    "\n",
    "print(\"\\n----------    ++    -------------    ++    ----------\")\n",
    "print(\"\\n         Nilai Minimal Variable Prime Tensor\\n\")\n",
    "print(\"----------    ++    -------------    ++    ----------\\n\")\n",
    "print(nilaiMin, \"\\n\\n----------    ++    -------------    ++    ----------\\n\")"
   ]
  },
  {
   "cell_type": "markdown",
   "id": "bbf3ba05-0290-4f79-9bf3-9a5297e06f9b",
   "metadata": {},
   "source": [
    "### --------------------------------------------------------------------------------------------------------------------\n",
    "### Tampilkan hasil dari penggabungan variable random_tensor dengan prime_tensor (concatenation)\n",
    "### --------------------------------------------------------------------------------------------------------------------"
   ]
  },
  {
   "cell_type": "code",
   "execution_count": 83,
   "id": "11076576-47ae-4559-915d-9f7c3cffb37d",
   "metadata": {},
   "outputs": [
    {
     "name": "stdout",
     "output_type": "stream",
     "text": [
      "\n",
      "------------------    ++    -------------    ++    ------------------\n",
      "\n",
      "      Hasil Penggabungan Variabel Random tensor dan prime tensor\n",
      "\n",
      "------------------    ++    -------------    ++    ------------------\n",
      "\n",
      "tf.Tensor(\n",
      "[[-0.3744468   0.61860144 -0.6192134   0.9124507   0.6950061 ]\n",
      " [-0.17951003 -0.37561563 -0.1350087   0.6676718   0.4242158 ]\n",
      " [-0.31347093 -0.27241856  1.1854254   0.34320396  1.4505777 ]\n",
      " [-0.29796734 -1.4172324   0.6069386  -1.4060947  -0.8780423 ]\n",
      " [-0.4037651   0.37089893 -1.0725715  -0.7477049  -1.1893758 ]\n",
      " [ 2.          3.          5.          7.         11.        ]\n",
      " [13.         17.         19.         23.         29.        ]\n",
      " [31.         37.         41.         43.         47.        ]\n",
      " [53.         59.         61.         67.         71.        ]\n",
      " [73.         79.         83.         89.         97.        ]], shape=(10, 5), dtype=float32) \n",
      "\n",
      "------------------    ++    -------------    ++    ------------------\n",
      "\n"
     ]
    }
   ],
   "source": [
    "nilaiConcat = tf.concat([random_tensor, prime_tensor], axis = 0)\n",
    "\n",
    "print(\"\\n------------------    ++    -------------    ++    ------------------\")\n",
    "print(\"\\n      Hasil Penggabungan Variabel Random tensor dan prime tensor\\n\")\n",
    "print(\"------------------    ++    -------------    ++    ------------------\\n\")\n",
    "print(nilaiConcat, \"\\n\\n------------------    ++    -------------    ++    ------------------\\n\")"
   ]
  },
  {
   "cell_type": "markdown",
   "id": "43ed7db2-0148-48a7-8d8e-1f9504585686",
   "metadata": {},
   "source": [
    "### --------------------------------------------------------------------------------------------------------------------\n",
    "### Tampilkan hasil sorting dari kedua variable di atas. (descending)\n",
    "### --------------------------------------------------------------------------------------------------------------------"
   ]
  },
  {
   "cell_type": "code",
   "execution_count": 85,
   "id": "1092a114-54cf-4553-9324-55161ba04c92",
   "metadata": {},
   "outputs": [
    {
     "name": "stdout",
     "output_type": "stream",
     "text": [
      "\n",
      "----------    ++    -------------    ++    ----------\n",
      "\n",
      "      Sorting Descending Variable Prime Tensor\n",
      "\n",
      "----------    ++    -------------    ++    ----------\n",
      "\n",
      "tf.Tensor(\n",
      "[[ 0.9124507   0.6950061   0.61860144 -0.3744468  -0.6192134 ]\n",
      " [ 0.6676718   0.4242158  -0.1350087  -0.17951003 -0.37561563]\n",
      " [ 1.4505777   1.1854254   0.34320396 -0.27241856 -0.31347093]\n",
      " [ 0.6069386  -0.29796734 -0.8780423  -1.4060947  -1.4172324 ]\n",
      " [ 0.37089893 -0.4037651  -0.7477049  -1.0725715  -1.1893758 ]], shape=(5, 5), dtype=float32) \n",
      "\n",
      "----------    ++    -------------    ++    ----------\n",
      "\n"
     ]
    }
   ],
   "source": [
    "sortRandom = tf.sort(random_tensor, direction = \"DESCENDING\")\n",
    "\n",
    "print(\"\\n----------    ++    -------------    ++    ----------\")\n",
    "print(\"\\n      Sorting Descending Variable Prime Tensor\\n\")\n",
    "print(\"----------    ++    -------------    ++    ----------\\n\")\n",
    "print(sortRandom, \"\\n\\n----------    ++    -------------    ++    ----------\\n\")"
   ]
  },
  {
   "cell_type": "code",
   "execution_count": 86,
   "id": "f4b54b17-7f28-436b-a37b-315cd3feb003",
   "metadata": {},
   "outputs": [
    {
     "name": "stdout",
     "output_type": "stream",
     "text": [
      "\n",
      "----------    ++    -------------    ++    ----------\n",
      "\n",
      "      Sorting Descending Variable Prime Tensor\n",
      "\n",
      "----------    ++    -------------    ++    ----------\n",
      "\n",
      "tf.Tensor(\n",
      "[[11.  7.  5.  3.  2.]\n",
      " [29. 23. 19. 17. 13.]\n",
      " [47. 43. 41. 37. 31.]\n",
      " [71. 67. 61. 59. 53.]\n",
      " [97. 89. 83. 79. 73.]], shape=(5, 5), dtype=float32) \n",
      "\n",
      "----------    ++    -------------    ++    ----------\n",
      "\n"
     ]
    }
   ],
   "source": [
    "sortPrime = tf.sort(prime_tensor, direction = \"DESCENDING\")\n",
    "\n",
    "print(\"\\n----------    ++    -------------    ++    ----------\")\n",
    "print(\"\\n      Sorting Descending Variable Prime Tensor\\n\")\n",
    "print(\"----------    ++    -------------    ++    ----------\\n\")\n",
    "print(sortPrime, \"\\n\\n----------    ++    -------------    ++    ----------\\n\")"
   ]
  }
 ],
 "metadata": {
  "kernelspec": {
   "display_name": "Python 3 (ipykernel)",
   "language": "python",
   "name": "python3"
  },
  "language_info": {
   "codemirror_mode": {
    "name": "ipython",
    "version": 3
   },
   "file_extension": ".py",
   "mimetype": "text/x-python",
   "name": "python",
   "nbconvert_exporter": "python",
   "pygments_lexer": "ipython3",
   "version": "3.10.7"
  }
 },
 "nbformat": 4,
 "nbformat_minor": 5
}
