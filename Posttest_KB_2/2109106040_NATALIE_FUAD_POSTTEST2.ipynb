{
 "cells": [
  {
   "cell_type": "markdown",
   "id": "ed16f971",
   "metadata": {},
   "source": [
    "### Mengimport package pandas"
   ]
  },
  {
   "cell_type": "code",
   "execution_count": 2,
   "id": "d51ee959",
   "metadata": {},
   "outputs": [],
   "source": [
    "import pandas as pd"
   ]
  },
  {
   "cell_type": "markdown",
   "id": "3acdfd64",
   "metadata": {},
   "source": [
    "### Mengimport dan membaca file \"DataAbalyst.csv\""
   ]
  },
  {
   "cell_type": "code",
   "execution_count": 3,
   "id": "a0bac4d9",
   "metadata": {},
   "outputs": [],
   "source": [
    "df = pd.read_csv(\"DataAnalyst.csv\")"
   ]
  },
  {
   "cell_type": "markdown",
   "id": "dd0a176a",
   "metadata": {},
   "source": [
    "### Menampilkan panjang record dataset"
   ]
  },
  {
   "cell_type": "code",
   "execution_count": 5,
   "id": "7d1dd41a",
   "metadata": {},
   "outputs": [
    {
     "data": {
      "text/plain": [
       "(2253, 16)"
      ]
     },
     "execution_count": 5,
     "metadata": {},
     "output_type": "execute_result"
    }
   ],
   "source": [
    "df.shape"
   ]
  },
  {
   "cell_type": "markdown",
   "id": "a73816c8",
   "metadata": {},
   "source": [
    "### Mengecek null atribut"
   ]
  },
  {
   "cell_type": "code",
   "execution_count": 6,
   "id": "db760cc3",
   "metadata": {},
   "outputs": [
    {
     "data": {
      "text/plain": [
       "Unnamed: 0           0\n",
       "Job Title            0\n",
       "Salary Estimate      0\n",
       "Job Description      0\n",
       "Rating               0\n",
       "Company Name         1\n",
       "Location             0\n",
       "Headquarters         0\n",
       "Size                 0\n",
       "Founded              0\n",
       "Type of ownership    0\n",
       "Industry             0\n",
       "Sector               0\n",
       "Revenue              0\n",
       "Competitors          0\n",
       "Easy Apply           0\n",
       "dtype: int64"
      ]
     },
     "execution_count": 6,
     "metadata": {},
     "output_type": "execute_result"
    }
   ],
   "source": [
    "df.isna().sum()"
   ]
  },
  {
   "cell_type": "markdown",
   "id": "76032fbd",
   "metadata": {},
   "source": [
    "### Menampilkan nformasi dataset meliputi,\n",
    "#### - jumlah record,\n",
    "#### - nama attribute,\n",
    "#### - jumlah attribute dengan tipe data object,\n",
    "#### - jumlah attribute dengan tipe data angka,\n",
    "#### - dan jumlah attribute yang memiliki nilai null."
   ]
  },
  {
   "cell_type": "code",
   "execution_count": 7,
   "id": "0bd85588",
   "metadata": {
    "scrolled": false
   },
   "outputs": [
    {
     "name": "stdout",
     "output_type": "stream",
     "text": [
      "<class 'pandas.core.frame.DataFrame'>\n",
      "RangeIndex: 2253 entries, 0 to 2252\n",
      "Data columns (total 16 columns):\n",
      " #   Column             Non-Null Count  Dtype  \n",
      "---  ------             --------------  -----  \n",
      " 0   Unnamed: 0         2253 non-null   int64  \n",
      " 1   Job Title          2253 non-null   object \n",
      " 2   Salary Estimate    2253 non-null   object \n",
      " 3   Job Description    2253 non-null   object \n",
      " 4   Rating             2253 non-null   float64\n",
      " 5   Company Name       2252 non-null   object \n",
      " 6   Location           2253 non-null   object \n",
      " 7   Headquarters       2253 non-null   object \n",
      " 8   Size               2253 non-null   object \n",
      " 9   Founded            2253 non-null   int64  \n",
      " 10  Type of ownership  2253 non-null   object \n",
      " 11  Industry           2253 non-null   object \n",
      " 12  Sector             2253 non-null   object \n",
      " 13  Revenue            2253 non-null   object \n",
      " 14  Competitors        2253 non-null   object \n",
      " 15  Easy Apply         2253 non-null   object \n",
      "dtypes: float64(1), int64(2), object(13)\n",
      "memory usage: 281.8+ KB\n"
     ]
    }
   ],
   "source": [
    "df.info()"
   ]
  },
  {
   "cell_type": "markdown",
   "id": "8c1a5f8c",
   "metadata": {},
   "source": [
    "### Masukkan informasi di atas ke dalam dictionary dengan key sesuai nama informasinya. Lalu menampilkan isi dari dictionary tersebut sebagus mungkin."
   ]
  },
  {
   "cell_type": "code",
   "execution_count": 37,
   "id": "af2ec91f",
   "metadata": {},
   "outputs": [
    {
     "name": "stdout",
     "output_type": "stream",
     "text": [
      "-----------------------------------------------------------\n",
      "===========================================================\n",
      "    \n",
      "                ** TAMPILAN INFORMASI **\n",
      "                      DATA ANALYST\n",
      "    \n",
      "===========================================================\n",
      "|  Jumlah Record Dataset                    : 36048       |\n",
      "|----------------------------------------------------------\n",
      "|  Nama Atribute                            :             |\n",
      "|  Unnamed: 0\n",
      "|  Job Title\n",
      "|  Salary Estimate\n",
      "|  Job Description\n",
      "|  Rating\n",
      "|  Company Name\n",
      "|  Location\n",
      "|  Headquarters\n",
      "|  Size\n",
      "|  Founded\n",
      "|  Type of ownership\n",
      "|  Industry\n",
      "|  Sector\n",
      "|  Revenue\n",
      "|  Competitors\n",
      "|  Easy Apply\n",
      "|----------------------------------------------------------\n",
      "|  Jumlah atribute dengan tipe object       : [13]        |\n",
      "|----------------------------------------------------------\n",
      "|  Jumlah atribute dengan tipe data angka   : [3]        |\n",
      "|----------------------------------------------------------\n",
      "|  Jumlah atribute yang memiliki nilai nul  : [1]        |\n",
      "===========================================================\n",
      "    \n",
      "===========================================================\n",
      "-----------------------------------------------------------\n"
     ]
    }
   ],
   "source": [
    "dictionary = {\"Jumlah Record Dataset\" : df.size,\n",
    "    \"Nama Atribute\" : df.columns,\n",
    "    \"Atribute dengan tipe data object\" : [len(df.select_dtypes([\"object\"]).columns)],\n",
    "    \"Atribute dengan tipe data angka\" : [len(df.select_dtypes([\"int64\", \"float64\"]).columns)],\n",
    "    \"Atribute yang memiliki nilai null\" : [len(df.loc[:, df.isna().any()].columns)]}\n",
    "\n",
    "\n",
    "print(\"-----------------------------------------------------------\")\n",
    "print(\"===========================================================\")\n",
    "print(\"    \")\n",
    "print(\"                ** TAMPILAN INFORMASI **\\n                      DATA ANALYST\")\n",
    "print(\"    \")\n",
    "print(\"===========================================================\")\n",
    "print(\"|  Jumlah Record Dataset                    :\", dictionary.get(\"Jumlah Record Dataset\"), \"      |\") \n",
    "\n",
    "print(\"|----------------------------------------------------------\") \n",
    "print(\"|  Nama Atribute                            :\", \"            |\") \n",
    "\n",
    "\n",
    "for i in range (len(dictionary[\"Nama Atribute\"])):\n",
    "    print(\"| \", dictionary[\"Nama Atribute\"][i])\n",
    "    i+=1\n",
    "    \n",
    "print(\"|----------------------------------------------------------\") \n",
    "\n",
    "print(\"|  Jumlah atribute dengan tipe object       :\", dictionary.get(\"Atribute dengan tipe data object\"), \"       |\")\n",
    "print(\"|----------------------------------------------------------\") \n",
    "\n",
    "print(\"|  Jumlah atribute dengan tipe data angka   :\", dictionary.get(\"Atribute dengan tipe data angka\"), \"       |\")\n",
    "print(\"|----------------------------------------------------------\")\n",
    "print(\"|  Jumlah atribute yang memiliki nilai nul  :\", dictionary.get(\"Atribute yang memiliki nilai null\"), \"       |\")\n",
    "print(\"===========================================================\")\n",
    "print(\"    \")\n",
    "print(\"===========================================================\")\n",
    "print(\"-----------------------------------------------------------\")"
   ]
  },
  {
   "cell_type": "markdown",
   "id": "755346c8",
   "metadata": {},
   "source": [
    "### Tampilkan rata-rata, standar deviasi, nilai minimum, nilai maksimum, Q1, Q2, dan Q3 dari attribute bertipe angka."
   ]
  },
  {
   "cell_type": "code",
   "execution_count": 9,
   "id": "c3ee0ea6",
   "metadata": {
    "scrolled": false
   },
   "outputs": [
    {
     "data": {
      "text/html": [
       "<div>\n",
       "<style scoped>\n",
       "    .dataframe tbody tr th:only-of-type {\n",
       "        vertical-align: middle;\n",
       "    }\n",
       "\n",
       "    .dataframe tbody tr th {\n",
       "        vertical-align: top;\n",
       "    }\n",
       "\n",
       "    .dataframe thead th {\n",
       "        text-align: right;\n",
       "    }\n",
       "</style>\n",
       "<table border=\"1\" class=\"dataframe\">\n",
       "  <thead>\n",
       "    <tr style=\"text-align: right;\">\n",
       "      <th></th>\n",
       "      <th>Unnamed: 0</th>\n",
       "      <th>Rating</th>\n",
       "      <th>Founded</th>\n",
       "    </tr>\n",
       "  </thead>\n",
       "  <tbody>\n",
       "    <tr>\n",
       "      <th>count</th>\n",
       "      <td>2253.0000</td>\n",
       "      <td>2253.000000</td>\n",
       "      <td>2253.000000</td>\n",
       "    </tr>\n",
       "    <tr>\n",
       "      <th>mean</th>\n",
       "      <td>1126.0000</td>\n",
       "      <td>3.160630</td>\n",
       "      <td>1398.522858</td>\n",
       "    </tr>\n",
       "    <tr>\n",
       "      <th>std</th>\n",
       "      <td>650.5294</td>\n",
       "      <td>1.665228</td>\n",
       "      <td>901.929251</td>\n",
       "    </tr>\n",
       "    <tr>\n",
       "      <th>min</th>\n",
       "      <td>0.0000</td>\n",
       "      <td>-1.000000</td>\n",
       "      <td>-1.000000</td>\n",
       "    </tr>\n",
       "    <tr>\n",
       "      <th>25%</th>\n",
       "      <td>563.0000</td>\n",
       "      <td>3.100000</td>\n",
       "      <td>-1.000000</td>\n",
       "    </tr>\n",
       "    <tr>\n",
       "      <th>50%</th>\n",
       "      <td>1126.0000</td>\n",
       "      <td>3.600000</td>\n",
       "      <td>1979.000000</td>\n",
       "    </tr>\n",
       "    <tr>\n",
       "      <th>75%</th>\n",
       "      <td>1689.0000</td>\n",
       "      <td>4.000000</td>\n",
       "      <td>2002.000000</td>\n",
       "    </tr>\n",
       "    <tr>\n",
       "      <th>max</th>\n",
       "      <td>2252.0000</td>\n",
       "      <td>5.000000</td>\n",
       "      <td>2019.000000</td>\n",
       "    </tr>\n",
       "  </tbody>\n",
       "</table>\n",
       "</div>"
      ],
      "text/plain": [
       "       Unnamed: 0       Rating      Founded\n",
       "count   2253.0000  2253.000000  2253.000000\n",
       "mean    1126.0000     3.160630  1398.522858\n",
       "std      650.5294     1.665228   901.929251\n",
       "min        0.0000    -1.000000    -1.000000\n",
       "25%      563.0000     3.100000    -1.000000\n",
       "50%     1126.0000     3.600000  1979.000000\n",
       "75%     1689.0000     4.000000  2002.000000\n",
       "max     2252.0000     5.000000  2019.000000"
      ]
     },
     "execution_count": 9,
     "metadata": {},
     "output_type": "execute_result"
    }
   ],
   "source": [
    "df.describe()"
   ]
  },
  {
   "cell_type": "markdown",
   "id": "45739059",
   "metadata": {},
   "source": [
    "### Menampilkan nilai korelasi attribute bertipe angka."
   ]
  },
  {
   "cell_type": "code",
   "execution_count": 10,
   "id": "18e656b3",
   "metadata": {
    "scrolled": true
   },
   "outputs": [
    {
     "data": {
      "text/html": [
       "<div>\n",
       "<style scoped>\n",
       "    .dataframe tbody tr th:only-of-type {\n",
       "        vertical-align: middle;\n",
       "    }\n",
       "\n",
       "    .dataframe tbody tr th {\n",
       "        vertical-align: top;\n",
       "    }\n",
       "\n",
       "    .dataframe thead th {\n",
       "        text-align: right;\n",
       "    }\n",
       "</style>\n",
       "<table border=\"1\" class=\"dataframe\">\n",
       "  <thead>\n",
       "    <tr style=\"text-align: right;\">\n",
       "      <th></th>\n",
       "      <th>Unnamed: 0</th>\n",
       "      <th>Rating</th>\n",
       "      <th>Founded</th>\n",
       "    </tr>\n",
       "  </thead>\n",
       "  <tbody>\n",
       "    <tr>\n",
       "      <th>Unnamed: 0</th>\n",
       "      <td>1.000000</td>\n",
       "      <td>0.043610</td>\n",
       "      <td>0.052124</td>\n",
       "    </tr>\n",
       "    <tr>\n",
       "      <th>Rating</th>\n",
       "      <td>0.043610</td>\n",
       "      <td>1.000000</td>\n",
       "      <td>0.500465</td>\n",
       "    </tr>\n",
       "    <tr>\n",
       "      <th>Founded</th>\n",
       "      <td>0.052124</td>\n",
       "      <td>0.500465</td>\n",
       "      <td>1.000000</td>\n",
       "    </tr>\n",
       "  </tbody>\n",
       "</table>\n",
       "</div>"
      ],
      "text/plain": [
       "            Unnamed: 0    Rating   Founded\n",
       "Unnamed: 0    1.000000  0.043610  0.052124\n",
       "Rating        0.043610  1.000000  0.500465\n",
       "Founded       0.052124  0.500465  1.000000"
      ]
     },
     "execution_count": 10,
     "metadata": {},
     "output_type": "execute_result"
    }
   ],
   "source": [
    "df.corr()"
   ]
  },
  {
   "cell_type": "markdown",
   "id": "eb057eaf",
   "metadata": {},
   "source": [
    "### Merubah nilai salah satu attribute bertipe angka menjadi desimal 3 angka dibelakang koma jika tidak ada, lakukan sebaliknya (dari desimal menjadi bilangan bulat)."
   ]
  },
  {
   "cell_type": "code",
   "execution_count": 39,
   "id": "7338216c",
   "metadata": {
    "scrolled": false
   },
   "outputs": [
    {
     "data": {
      "text/html": [
       "<div>\n",
       "<style scoped>\n",
       "    .dataframe tbody tr th:only-of-type {\n",
       "        vertical-align: middle;\n",
       "    }\n",
       "\n",
       "    .dataframe tbody tr th {\n",
       "        vertical-align: top;\n",
       "    }\n",
       "\n",
       "    .dataframe thead th {\n",
       "        text-align: right;\n",
       "    }\n",
       "</style>\n",
       "<table border=\"1\" class=\"dataframe\">\n",
       "  <thead>\n",
       "    <tr style=\"text-align: right;\">\n",
       "      <th></th>\n",
       "      <th>Unnamed: 0</th>\n",
       "      <th>Rating</th>\n",
       "      <th>Founded</th>\n",
       "    </tr>\n",
       "  </thead>\n",
       "  <tbody>\n",
       "    <tr>\n",
       "      <th>0</th>\n",
       "      <td>0.000</td>\n",
       "      <td>3.200</td>\n",
       "      <td>1961.000</td>\n",
       "    </tr>\n",
       "    <tr>\n",
       "      <th>1</th>\n",
       "      <td>1.000</td>\n",
       "      <td>3.800</td>\n",
       "      <td>1893.000</td>\n",
       "    </tr>\n",
       "    <tr>\n",
       "      <th>2</th>\n",
       "      <td>2.000</td>\n",
       "      <td>3.400</td>\n",
       "      <td>2003.000</td>\n",
       "    </tr>\n",
       "    <tr>\n",
       "      <th>3</th>\n",
       "      <td>3.000</td>\n",
       "      <td>4.100</td>\n",
       "      <td>2002.000</td>\n",
       "    </tr>\n",
       "    <tr>\n",
       "      <th>4</th>\n",
       "      <td>4.000</td>\n",
       "      <td>3.900</td>\n",
       "      <td>2009.000</td>\n",
       "    </tr>\n",
       "    <tr>\n",
       "      <th>...</th>\n",
       "      <td>...</td>\n",
       "      <td>...</td>\n",
       "      <td>...</td>\n",
       "    </tr>\n",
       "    <tr>\n",
       "      <th>2248</th>\n",
       "      <td>2248.000</td>\n",
       "      <td>2.500</td>\n",
       "      <td>-1.000</td>\n",
       "    </tr>\n",
       "    <tr>\n",
       "      <th>2249</th>\n",
       "      <td>2249.000</td>\n",
       "      <td>2.900</td>\n",
       "      <td>1935.000</td>\n",
       "    </tr>\n",
       "    <tr>\n",
       "      <th>2250</th>\n",
       "      <td>2250.000</td>\n",
       "      <td>-1.000</td>\n",
       "      <td>-1.000</td>\n",
       "    </tr>\n",
       "    <tr>\n",
       "      <th>2251</th>\n",
       "      <td>2251.000</td>\n",
       "      <td>3.100</td>\n",
       "      <td>1984.000</td>\n",
       "    </tr>\n",
       "    <tr>\n",
       "      <th>2252</th>\n",
       "      <td>2252.000</td>\n",
       "      <td>3.400</td>\n",
       "      <td>1864.000</td>\n",
       "    </tr>\n",
       "  </tbody>\n",
       "</table>\n",
       "<p>2253 rows × 3 columns</p>\n",
       "</div>"
      ],
      "text/plain": [
       "     Unnamed: 0  Rating   Founded\n",
       "0         0.000   3.200  1961.000\n",
       "1         1.000   3.800  1893.000\n",
       "2         2.000   3.400  2003.000\n",
       "3         3.000   4.100  2002.000\n",
       "4         4.000   3.900  2009.000\n",
       "...         ...     ...       ...\n",
       "2248   2248.000   2.500    -1.000\n",
       "2249   2249.000   2.900  1935.000\n",
       "2250   2250.000  -1.000    -1.000\n",
       "2251   2251.000   3.100  1984.000\n",
       "2252   2252.000   3.400  1864.000\n",
       "\n",
       "[2253 rows x 3 columns]"
      ]
     },
     "execution_count": 39,
     "metadata": {},
     "output_type": "execute_result"
    }
   ],
   "source": [
    "df[\"Rating\"] = df[\"Rating\"].astype(\"float64\")\n",
    "df.select_dtypes(include=[\"int64\", \"float64\"]).applymap(\"{:.3f}\".format, \"ignore\")"
   ]
  },
  {
   "cell_type": "markdown",
   "id": "42d0f792",
   "metadata": {},
   "source": [
    "### Menampilkan 10 record pertama dari attribute bertipe angka.\n",
    "#### (*Tipe data integer*)"
   ]
  },
  {
   "cell_type": "code",
   "execution_count": 12,
   "id": "625afe03",
   "metadata": {
    "scrolled": false
   },
   "outputs": [
    {
     "data": {
      "text/html": [
       "<div>\n",
       "<style scoped>\n",
       "    .dataframe tbody tr th:only-of-type {\n",
       "        vertical-align: middle;\n",
       "    }\n",
       "\n",
       "    .dataframe tbody tr th {\n",
       "        vertical-align: top;\n",
       "    }\n",
       "\n",
       "    .dataframe thead th {\n",
       "        text-align: right;\n",
       "    }\n",
       "</style>\n",
       "<table border=\"1\" class=\"dataframe\">\n",
       "  <thead>\n",
       "    <tr style=\"text-align: right;\">\n",
       "      <th></th>\n",
       "      <th>Founded</th>\n",
       "    </tr>\n",
       "  </thead>\n",
       "  <tbody>\n",
       "    <tr>\n",
       "      <th>0</th>\n",
       "      <td>1961</td>\n",
       "    </tr>\n",
       "    <tr>\n",
       "      <th>1</th>\n",
       "      <td>1893</td>\n",
       "    </tr>\n",
       "    <tr>\n",
       "      <th>2</th>\n",
       "      <td>2003</td>\n",
       "    </tr>\n",
       "    <tr>\n",
       "      <th>3</th>\n",
       "      <td>2002</td>\n",
       "    </tr>\n",
       "    <tr>\n",
       "      <th>4</th>\n",
       "      <td>2009</td>\n",
       "    </tr>\n",
       "    <tr>\n",
       "      <th>5</th>\n",
       "      <td>2014</td>\n",
       "    </tr>\n",
       "    <tr>\n",
       "      <th>6</th>\n",
       "      <td>2001</td>\n",
       "    </tr>\n",
       "    <tr>\n",
       "      <th>7</th>\n",
       "      <td>1914</td>\n",
       "    </tr>\n",
       "    <tr>\n",
       "      <th>8</th>\n",
       "      <td>1896</td>\n",
       "    </tr>\n",
       "    <tr>\n",
       "      <th>9</th>\n",
       "      <td>2013</td>\n",
       "    </tr>\n",
       "  </tbody>\n",
       "</table>\n",
       "</div>"
      ],
      "text/plain": [
       "   Founded\n",
       "0     1961\n",
       "1     1893\n",
       "2     2003\n",
       "3     2002\n",
       "4     2009\n",
       "5     2014\n",
       "6     2001\n",
       "7     1914\n",
       "8     1896\n",
       "9     2013"
      ]
     },
     "execution_count": 12,
     "metadata": {},
     "output_type": "execute_result"
    }
   ],
   "source": [
    "df[[\"Founded\"]].head(10)"
   ]
  },
  {
   "cell_type": "markdown",
   "id": "68817732",
   "metadata": {},
   "source": [
    "### Menyimpan dataset dengan attribute bertipe angka ke dalam file CSV."
   ]
  },
  {
   "cell_type": "code",
   "execution_count": 13,
   "id": "4a6a579f",
   "metadata": {},
   "outputs": [],
   "source": [
    "df.select_dtypes(include=[\"int64\", \"float64\"]).to_csv(\"Atribute_angka.csv\")"
   ]
  }
 ],
 "metadata": {
  "kernelspec": {
   "display_name": "Python 3 (ipykernel)",
   "language": "python",
   "name": "python3"
  },
  "language_info": {
   "codemirror_mode": {
    "name": "ipython",
    "version": 3
   },
   "file_extension": ".py",
   "mimetype": "text/x-python",
   "name": "python",
   "nbconvert_exporter": "python",
   "pygments_lexer": "ipython3",
   "version": "3.10.7"
  }
 },
 "nbformat": 4,
 "nbformat_minor": 5
}
