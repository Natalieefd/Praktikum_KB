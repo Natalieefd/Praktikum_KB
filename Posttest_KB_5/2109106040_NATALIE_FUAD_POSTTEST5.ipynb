{
 "cells": [
  {
   "cell_type": "markdown",
   "id": "0f5f2bef-49b7-4a5b-814a-cca1bc24b1cf",
   "metadata": {},
   "source": [
    "#### -----------------------------------------------------------------------------------------------------------------------------------\n",
    "### NAMA    : Natalie Fuad\n",
    "### NIM     : 2109106040\n",
    "\n",
    "####\n",
    "### POSTTEST 5 - SUPERVISED LEARNING\n",
    "#### -----------------------------------------------------------------------------------------------------------------------------------"
   ]
  },
  {
   "cell_type": "code",
   "execution_count": 2,
   "id": "bfafc48a-bd92-4017-9dd2-d809cb7e7a32",
   "metadata": {},
   "outputs": [],
   "source": [
    "import pandas as pd\n",
    "import numpy as np\n",
    "import matplotlib.pyplot as plt\n",
    "import seaborn as sns"
   ]
  },
  {
   "cell_type": "code",
   "execution_count": 3,
   "id": "865bdb55-9bd2-4087-b2f7-85e9c86a8106",
   "metadata": {},
   "outputs": [],
   "source": [
    "df = pd.read_csv('Smartphone_Evolution.csv')"
   ]
  },
  {
   "cell_type": "code",
   "execution_count": 4,
   "id": "4c710288-0c6e-44f1-916d-4ff0389313ed",
   "metadata": {},
   "outputs": [
    {
     "data": {
      "text/html": [
       "<div>\n",
       "<style scoped>\n",
       "    .dataframe tbody tr th:only-of-type {\n",
       "        vertical-align: middle;\n",
       "    }\n",
       "\n",
       "    .dataframe tbody tr th {\n",
       "        vertical-align: top;\n",
       "    }\n",
       "\n",
       "    .dataframe thead th {\n",
       "        text-align: right;\n",
       "    }\n",
       "</style>\n",
       "<table border=\"1\" class=\"dataframe\">\n",
       "  <thead>\n",
       "    <tr style=\"text-align: right;\">\n",
       "      <th></th>\n",
       "      <th>Brand</th>\n",
       "      <th>Model</th>\n",
       "      <th>OS</th>\n",
       "      <th>Release_Date</th>\n",
       "      <th>Battery</th>\n",
       "      <th>Processor</th>\n",
       "      <th>Memory</th>\n",
       "      <th>Primary_Storage</th>\n",
       "      <th>External_Storage</th>\n",
       "      <th>Display_Size</th>\n",
       "      <th>Display_Resolution</th>\n",
       "      <th>Display_Refresh_Rate</th>\n",
       "      <th>Primary_Camera</th>\n",
       "      <th>Front_Camera</th>\n",
       "    </tr>\n",
       "  </thead>\n",
       "  <tbody>\n",
       "    <tr>\n",
       "      <th>0</th>\n",
       "      <td>ARCHOS</td>\n",
       "      <td>40 Cesium</td>\n",
       "      <td>Windows Phone 8.1</td>\n",
       "      <td>NaN</td>\n",
       "      <td>1950.0</td>\n",
       "      <td>Qualcomm Snapdragon 200</td>\n",
       "      <td>0.5</td>\n",
       "      <td>4.0</td>\n",
       "      <td>microSDXC</td>\n",
       "      <td>4.0</td>\n",
       "      <td>800 x 480</td>\n",
       "      <td>NaN</td>\n",
       "      <td>5.0</td>\n",
       "      <td>0.3</td>\n",
       "    </tr>\n",
       "    <tr>\n",
       "      <th>1</th>\n",
       "      <td>ARCHOS</td>\n",
       "      <td>40 Titanium</td>\n",
       "      <td>Android 4.2.2</td>\n",
       "      <td>NaN</td>\n",
       "      <td>1500.0</td>\n",
       "      <td>MediaTek</td>\n",
       "      <td>0.5</td>\n",
       "      <td>NaN</td>\n",
       "      <td>microSDHC</td>\n",
       "      <td>4.0</td>\n",
       "      <td>800 x 480</td>\n",
       "      <td>NaN</td>\n",
       "      <td>5.0</td>\n",
       "      <td>0.3</td>\n",
       "    </tr>\n",
       "    <tr>\n",
       "      <th>2</th>\n",
       "      <td>ARCHOS</td>\n",
       "      <td>40b Titanium</td>\n",
       "      <td>Android 4.2.2</td>\n",
       "      <td>NaN</td>\n",
       "      <td>1400.0</td>\n",
       "      <td>MediaTek</td>\n",
       "      <td>0.5</td>\n",
       "      <td>4.0</td>\n",
       "      <td>microSD</td>\n",
       "      <td>4.0</td>\n",
       "      <td>800 x 480</td>\n",
       "      <td>NaN</td>\n",
       "      <td>5.0</td>\n",
       "      <td>0.3</td>\n",
       "    </tr>\n",
       "    <tr>\n",
       "      <th>3</th>\n",
       "      <td>ARCHOS</td>\n",
       "      <td>45 Titanium</td>\n",
       "      <td>Android 4.2.2</td>\n",
       "      <td>NaN</td>\n",
       "      <td>1680.0</td>\n",
       "      <td>MediaTek</td>\n",
       "      <td>0.5</td>\n",
       "      <td>NaN</td>\n",
       "      <td>microSDHC</td>\n",
       "      <td>4.5</td>\n",
       "      <td>854 x 480</td>\n",
       "      <td>NaN</td>\n",
       "      <td>5.0</td>\n",
       "      <td>0.3</td>\n",
       "    </tr>\n",
       "    <tr>\n",
       "      <th>4</th>\n",
       "      <td>ARCHOS</td>\n",
       "      <td>45b Helium 4G</td>\n",
       "      <td>Android 4.4.4</td>\n",
       "      <td>NaN</td>\n",
       "      <td>1850.0</td>\n",
       "      <td>Qualcomm Snapdragon 410</td>\n",
       "      <td>0.5</td>\n",
       "      <td>4.0</td>\n",
       "      <td>microSDXC</td>\n",
       "      <td>4.5</td>\n",
       "      <td>854 x 480</td>\n",
       "      <td>NaN</td>\n",
       "      <td>5.0</td>\n",
       "      <td>0.3</td>\n",
       "    </tr>\n",
       "  </tbody>\n",
       "</table>\n",
       "</div>"
      ],
      "text/plain": [
       "    Brand          Model                 OS Release_Date  Battery  \\\n",
       "0  ARCHOS      40 Cesium  Windows Phone 8.1          NaN   1950.0   \n",
       "1  ARCHOS    40 Titanium      Android 4.2.2          NaN   1500.0   \n",
       "2  ARCHOS   40b Titanium      Android 4.2.2          NaN   1400.0   \n",
       "3  ARCHOS    45 Titanium      Android 4.2.2          NaN   1680.0   \n",
       "4  ARCHOS  45b Helium 4G      Android 4.4.4          NaN   1850.0   \n",
       "\n",
       "                 Processor  Memory  Primary_Storage External_Storage  \\\n",
       "0  Qualcomm Snapdragon 200     0.5              4.0        microSDXC   \n",
       "1                 MediaTek     0.5              NaN        microSDHC   \n",
       "2                 MediaTek     0.5              4.0          microSD   \n",
       "3                 MediaTek     0.5              NaN        microSDHC   \n",
       "4  Qualcomm Snapdragon 410     0.5              4.0        microSDXC   \n",
       "\n",
       "   Display_Size Display_Resolution  Display_Refresh_Rate  Primary_Camera  \\\n",
       "0           4.0         800 x 480                    NaN             5.0   \n",
       "1           4.0         800 x 480                    NaN             5.0   \n",
       "2           4.0         800 x 480                    NaN             5.0   \n",
       "3           4.5         854 x 480                    NaN             5.0   \n",
       "4           4.5         854 x 480                    NaN             5.0   \n",
       "\n",
       "  Front_Camera  \n",
       "0         0.3   \n",
       "1         0.3   \n",
       "2         0.3   \n",
       "3         0.3   \n",
       "4         0.3   "
      ]
     },
     "execution_count": 4,
     "metadata": {},
     "output_type": "execute_result"
    }
   ],
   "source": [
    "df.head()"
   ]
  },
  {
   "cell_type": "markdown",
   "id": "7e575461-7ec8-4e6b-a199-75f0744b8a0e",
   "metadata": {},
   "source": [
    "# Membersihkan data yang memiliki nilai NULL"
   ]
  },
  {
   "cell_type": "code",
   "execution_count": 5,
   "id": "e0128dc1-e4f3-41d8-b7cf-5724a18e9c7f",
   "metadata": {},
   "outputs": [
    {
     "name": "stdout",
     "output_type": "stream",
     "text": [
      "\n",
      "----------    ++    -------------    ++    ----------\n",
      "\n",
      "       Dataset sebelum dilakukan data cleaning\n",
      "\n",
      "----------    ++    -------------    ++    ----------\n",
      "\n",
      "Brand                      0\n",
      "Model                      0\n",
      "OS                        18\n",
      "Release_Date            2190\n",
      "Battery                  169\n",
      "Processor               1429\n",
      "Memory                   472\n",
      "Primary_Storage          717\n",
      "External_Storage          55\n",
      "Display_Size             233\n",
      "Display_Resolution        82\n",
      "Display_Refresh_Rate    4227\n",
      "Primary_Camera            99\n",
      "Front_Camera            1233\n",
      "dtype: int64 \n",
      "\n",
      "----------    ++    -------------    ++    ----------\n",
      "\n"
     ]
    }
   ],
   "source": [
    "print(\"\\n----------    ++    -------------    ++    ----------\")\n",
    "print(\"\\n       Dataset sebelum dilakukan data cleaning\\n\")\n",
    "print(\"----------    ++    -------------    ++    ----------\\n\")\n",
    "print(df.isna().sum(), \"\\n\\n----------    ++    -------------    ++    ----------\\n\")"
   ]
  },
  {
   "cell_type": "code",
   "execution_count": 6,
   "id": "6fa38124-6111-4584-87e0-1c85323a48cf",
   "metadata": {},
   "outputs": [],
   "source": [
    "from sklearn.impute import SimpleImputer"
   ]
  },
  {
   "cell_type": "markdown",
   "id": "647f822a-a485-4d11-a46a-c162c423bf4c",
   "metadata": {},
   "source": [
    "## Menghapus nilai NULL pada tipe data object"
   ]
  },
  {
   "cell_type": "code",
   "execution_count": 7,
   "id": "03ab26e9-388b-46b4-9ebe-40addf5be389",
   "metadata": {},
   "outputs": [],
   "source": [
    "simpleImptObj = SimpleImputer(strategy = 'most_frequent')"
   ]
  },
  {
   "cell_type": "code",
   "execution_count": 8,
   "id": "20a5dffa-9173-4e12-9270-7ec9a57a8ce8",
   "metadata": {},
   "outputs": [],
   "source": [
    "df['OS'] = simpleImptObj.fit_transform(df[['OS']])\n",
    "df['Release_Date'] = simpleImptObj.fit_transform(df[['Release_Date']])\n",
    "df['Processor'] = simpleImptObj.fit_transform(df[['Processor']])\n",
    "df['External_Storage'] = simpleImptObj.fit_transform(df[['External_Storage']])\n",
    "df['Display_Resolution'] = simpleImptObj.fit_transform(df[['Display_Resolution']])\n",
    "df['Front_Camera'] = simpleImptObj.fit_transform(df[['Front_Camera']])"
   ]
  },
  {
   "cell_type": "markdown",
   "id": "157a0bf5-14a8-4297-b60a-f82871507fd6",
   "metadata": {},
   "source": [
    "## Menghapus nilai NULL pada tipe data float"
   ]
  },
  {
   "cell_type": "code",
   "execution_count": 9,
   "id": "163c4338-b64c-43c5-999d-fbffffc0e40a",
   "metadata": {},
   "outputs": [],
   "source": [
    "simpleImptFloat = SimpleImputer(strategy = 'mean')"
   ]
  },
  {
   "cell_type": "code",
   "execution_count": 10,
   "id": "19a4e207-58dd-4253-b309-89527d18c71e",
   "metadata": {},
   "outputs": [],
   "source": [
    "df['Battery'] = simpleImptFloat.fit_transform(df[['Battery']])\n",
    "df['Memory'] = simpleImptFloat.fit_transform(df[['Memory']])\n",
    "df['Primary_Storage'] = simpleImptFloat.fit_transform(df[['Primary_Storage']])\n",
    "df['Display_Size'] = simpleImptFloat.fit_transform(df[['Display_Size']])\n",
    "df['Display_Refresh_Rate'] = simpleImptFloat.fit_transform(df[['Display_Refresh_Rate']])\n",
    "df['Primary_Camera'] = simpleImptFloat.fit_transform(df[['Primary_Camera']])"
   ]
  },
  {
   "cell_type": "code",
   "execution_count": 11,
   "id": "c0dbaba2-0d87-4d61-895f-70508b03c333",
   "metadata": {},
   "outputs": [
    {
     "name": "stdout",
     "output_type": "stream",
     "text": [
      "\n",
      "----------    ++    -------------    ++    ----------\n",
      "\n",
      "       Dataset setelah dilakukan data cleaning\n",
      "\n",
      "----------    ++    -------------    ++    ----------\n",
      "\n",
      "Brand                   0\n",
      "Model                   0\n",
      "OS                      0\n",
      "Release_Date            0\n",
      "Battery                 0\n",
      "Processor               0\n",
      "Memory                  0\n",
      "Primary_Storage         0\n",
      "External_Storage        0\n",
      "Display_Size            0\n",
      "Display_Resolution      0\n",
      "Display_Refresh_Rate    0\n",
      "Primary_Camera          0\n",
      "Front_Camera            0\n",
      "dtype: int64 \n",
      "\n",
      "----------    ++    -------------    ++    ----------\n",
      "\n"
     ]
    }
   ],
   "source": [
    "print(\"\\n----------    ++    -------------    ++    ----------\")\n",
    "print(\"\\n       Dataset setelah dilakukan data cleaning\\n\")\n",
    "print(\"----------    ++    -------------    ++    ----------\\n\")\n",
    "print(df.isna().sum(), \"\\n\\n----------    ++    -------------    ++    ----------\\n\")"
   ]
  },
  {
   "cell_type": "markdown",
   "id": "23bbb137-8373-4b4e-8599-64a8df3241c1",
   "metadata": {},
   "source": [
    "## Menampilkan data unik dari atribut External Storage"
   ]
  },
  {
   "cell_type": "code",
   "execution_count": 46,
   "id": "e0445a76-f9c9-46ae-b280-0ad0a7567dbc",
   "metadata": {},
   "outputs": [
    {
     "name": "stdout",
     "output_type": "stream",
     "text": [
      "\n",
      "----------------------    ++    -------------    ++    ----------------------\n",
      "\n",
      "                   Data unik dari atribut External_Storage\n",
      "\n",
      "----------------------    ++    -------------    ++    ----------------------\n",
      "\n",
      "\n",
      "[' microSDXC' ' microSDHC' ' microSD' ' ' ' miniSD' ' not expandable'\n",
      " ' not expandable ' ' MMC' ' SD' ' miniSDHC' ' Nano Memory (NM)' ' RS-MMC'\n",
      " ' Memory Stick Micro (M2)' ' Memory Stick Duo'] \n",
      "\n",
      "\n",
      "----------------------    ++    -------------    ++    ----------------------\n",
      "\n"
     ]
    }
   ],
   "source": [
    "print(\"\\n----------------------    ++    -------------    ++    ----------------------\")\n",
    "print(\"\\n                   Data unik dari atribut External_Storage\\n\")\n",
    "print(\"----------------------    ++    -------------    ++    ----------------------\\n\\n\")\n",
    "print(df['External_Storage'].unique(), \"\\n\\n\\n----------------------    ++    -------------    ++    ----------------------\\n\")"
   ]
  },
  {
   "cell_type": "markdown",
   "id": "b69e6fec-d1bc-4e41-b90d-de428eed3f28",
   "metadata": {},
   "source": [
    "#### -----------------------------------------------------------------------------------------------------------------------------------\n",
    "## Buatlah model Machine Learning menggunakan pendekatan Supervised Learning dengan ketentuan sebagai berikut:\n",
    "#### - Gunakan salah satu tipe pendekatan pada Supervised Learning.\n",
    "#### - Gunakan minimal 2 algoritma untuk membandingkan score/hasil terbaiknya.\n",
    "#### - Tampilkan score dari model-model tersebut untuk classification\n",
    "#### - Tampilkan visualisasi dari model-model tersebut untuk regression.\n",
    "\n",
    "\n",
    "##\n",
    "### Saran (Rekomendasi):\n",
    "##### - Gunakan dataset yang telah dibersihkan pada Posttest sebelumnya.\n",
    "##### - Semakin baik hasil training kalian, semakin baik pula nilainya.\n",
    "##### - Perhatikan tipe input yang dapat diterima masing-masing algoritma.\n"
   ]
  },
  {
   "cell_type": "markdown",
   "id": "93aba1f2-515c-4f60-aa92-f798bfd74ab0",
   "metadata": {},
   "source": [
    "#### ----------------------------------------------------------------------------------------------------------------------------------- \n",
    "## Menggunakan salah satu tipe pendekatan pada Supervised Learning.\n",
    "### Yaitu pendekatan classification\n",
    "#### -----------------------------------------------------------------------------------------------------------------------------------"
   ]
  },
  {
   "cell_type": "markdown",
   "id": "f549ec72-299d-4433-b099-8289b90c8cc0",
   "metadata": {},
   "source": [
    "## Split Data"
   ]
  },
  {
   "cell_type": "code",
   "execution_count": 13,
   "id": "4c6706f8-345f-450a-bea5-357d05fab51d",
   "metadata": {},
   "outputs": [],
   "source": [
    "X = df[['Battery', 'Memory', 'Display_Size', 'Primary_Camera']]\n",
    "Y = df['External_Storage']"
   ]
  },
  {
   "cell_type": "code",
   "execution_count": 14,
   "id": "67982cf9-c0d0-41b6-9409-3b36a0e07dd7",
   "metadata": {},
   "outputs": [],
   "source": [
    "from sklearn.model_selection import train_test_split"
   ]
  },
  {
   "cell_type": "code",
   "execution_count": 15,
   "id": "0c861da5-7588-4ed1-be2f-a1c1ce977f6e",
   "metadata": {},
   "outputs": [],
   "source": [
    "X_train, X_test, Y_train, Y_test = train_test_split(X, Y, test_size=0.2, random_state=0)"
   ]
  },
  {
   "cell_type": "markdown",
   "id": "82123653-81e4-432b-9646-f7e8c16c4c79",
   "metadata": {},
   "source": [
    "#### ----------------------------------------------------------------------------------------------------------------------------------- \n",
    "### Menggunakan minimal 2 algoritma  untuk membandingkan score/hasil terbaiknya.\n",
    "#### (K-Nearest Neightbor | Naive Bayes | Decision Tree)\n",
    "#### ----------------------------------------------------------------------------------------------------------------------------------- \n",
    "\n",
    "### K-Nearest Neightbor\n",
    "#### ----------------------------------------------------------------------------------------------------------------------------------- "
   ]
  },
  {
   "cell_type": "code",
   "execution_count": 16,
   "id": "e84085dd-8d7d-4dd2-96ac-d33f827478d7",
   "metadata": {},
   "outputs": [],
   "source": [
    "from sklearn.neighbors import KNeighborsClassifier"
   ]
  },
  {
   "cell_type": "code",
   "execution_count": 17,
   "id": "7700bc9d-f76c-4416-9df5-96da88a28858",
   "metadata": {},
   "outputs": [],
   "source": [
    "modelKNN = KNeighborsClassifier(n_neighbors = 5)"
   ]
  },
  {
   "cell_type": "code",
   "execution_count": 18,
   "id": "3c0f7e2f-7dd9-4c3a-8c8e-96ea0ea3698c",
   "metadata": {},
   "outputs": [
    {
     "data": {
      "text/html": [
       "<style>#sk-container-id-1 {color: black;background-color: white;}#sk-container-id-1 pre{padding: 0;}#sk-container-id-1 div.sk-toggleable {background-color: white;}#sk-container-id-1 label.sk-toggleable__label {cursor: pointer;display: block;width: 100%;margin-bottom: 0;padding: 0.3em;box-sizing: border-box;text-align: center;}#sk-container-id-1 label.sk-toggleable__label-arrow:before {content: \"▸\";float: left;margin-right: 0.25em;color: #696969;}#sk-container-id-1 label.sk-toggleable__label-arrow:hover:before {color: black;}#sk-container-id-1 div.sk-estimator:hover label.sk-toggleable__label-arrow:before {color: black;}#sk-container-id-1 div.sk-toggleable__content {max-height: 0;max-width: 0;overflow: hidden;text-align: left;background-color: #f0f8ff;}#sk-container-id-1 div.sk-toggleable__content pre {margin: 0.2em;color: black;border-radius: 0.25em;background-color: #f0f8ff;}#sk-container-id-1 input.sk-toggleable__control:checked~div.sk-toggleable__content {max-height: 200px;max-width: 100%;overflow: auto;}#sk-container-id-1 input.sk-toggleable__control:checked~label.sk-toggleable__label-arrow:before {content: \"▾\";}#sk-container-id-1 div.sk-estimator input.sk-toggleable__control:checked~label.sk-toggleable__label {background-color: #d4ebff;}#sk-container-id-1 div.sk-label input.sk-toggleable__control:checked~label.sk-toggleable__label {background-color: #d4ebff;}#sk-container-id-1 input.sk-hidden--visually {border: 0;clip: rect(1px 1px 1px 1px);clip: rect(1px, 1px, 1px, 1px);height: 1px;margin: -1px;overflow: hidden;padding: 0;position: absolute;width: 1px;}#sk-container-id-1 div.sk-estimator {font-family: monospace;background-color: #f0f8ff;border: 1px dotted black;border-radius: 0.25em;box-sizing: border-box;margin-bottom: 0.5em;}#sk-container-id-1 div.sk-estimator:hover {background-color: #d4ebff;}#sk-container-id-1 div.sk-parallel-item::after {content: \"\";width: 100%;border-bottom: 1px solid gray;flex-grow: 1;}#sk-container-id-1 div.sk-label:hover label.sk-toggleable__label {background-color: #d4ebff;}#sk-container-id-1 div.sk-serial::before {content: \"\";position: absolute;border-left: 1px solid gray;box-sizing: border-box;top: 0;bottom: 0;left: 50%;z-index: 0;}#sk-container-id-1 div.sk-serial {display: flex;flex-direction: column;align-items: center;background-color: white;padding-right: 0.2em;padding-left: 0.2em;position: relative;}#sk-container-id-1 div.sk-item {position: relative;z-index: 1;}#sk-container-id-1 div.sk-parallel {display: flex;align-items: stretch;justify-content: center;background-color: white;position: relative;}#sk-container-id-1 div.sk-item::before, #sk-container-id-1 div.sk-parallel-item::before {content: \"\";position: absolute;border-left: 1px solid gray;box-sizing: border-box;top: 0;bottom: 0;left: 50%;z-index: -1;}#sk-container-id-1 div.sk-parallel-item {display: flex;flex-direction: column;z-index: 1;position: relative;background-color: white;}#sk-container-id-1 div.sk-parallel-item:first-child::after {align-self: flex-end;width: 50%;}#sk-container-id-1 div.sk-parallel-item:last-child::after {align-self: flex-start;width: 50%;}#sk-container-id-1 div.sk-parallel-item:only-child::after {width: 0;}#sk-container-id-1 div.sk-dashed-wrapped {border: 1px dashed gray;margin: 0 0.4em 0.5em 0.4em;box-sizing: border-box;padding-bottom: 0.4em;background-color: white;}#sk-container-id-1 div.sk-label label {font-family: monospace;font-weight: bold;display: inline-block;line-height: 1.2em;}#sk-container-id-1 div.sk-label-container {text-align: center;}#sk-container-id-1 div.sk-container {/* jupyter's `normalize.less` sets `[hidden] { display: none; }` but bootstrap.min.css set `[hidden] { display: none !important; }` so we also need the `!important` here to be able to override the default hidden behavior on the sphinx rendered scikit-learn.org. See: https://github.com/scikit-learn/scikit-learn/issues/21755 */display: inline-block !important;position: relative;}#sk-container-id-1 div.sk-text-repr-fallback {display: none;}</style><div id=\"sk-container-id-1\" class=\"sk-top-container\"><div class=\"sk-text-repr-fallback\"><pre>KNeighborsClassifier()</pre><b>In a Jupyter environment, please rerun this cell to show the HTML representation or trust the notebook. <br />On GitHub, the HTML representation is unable to render, please try loading this page with nbviewer.org.</b></div><div class=\"sk-container\" hidden><div class=\"sk-item\"><div class=\"sk-estimator sk-toggleable\"><input class=\"sk-toggleable__control sk-hidden--visually\" id=\"sk-estimator-id-1\" type=\"checkbox\" checked><label for=\"sk-estimator-id-1\" class=\"sk-toggleable__label sk-toggleable__label-arrow\">KNeighborsClassifier</label><div class=\"sk-toggleable__content\"><pre>KNeighborsClassifier()</pre></div></div></div></div></div>"
      ],
      "text/plain": [
       "KNeighborsClassifier()"
      ]
     },
     "execution_count": 18,
     "metadata": {},
     "output_type": "execute_result"
    }
   ],
   "source": [
    "modelKNN.fit(X_train, Y_train)"
   ]
  },
  {
   "cell_type": "markdown",
   "id": "8399727f-2e95-47ee-9ddd-9672f688b9d7",
   "metadata": {},
   "source": [
    "### Menampilkan score akurasi pada data training"
   ]
  },
  {
   "cell_type": "code",
   "execution_count": 68,
   "id": "4326c9e0-ca8b-432e-9577-815fb446c3d7",
   "metadata": {
    "tags": []
   },
   "outputs": [
    {
     "name": "stdout",
     "output_type": "stream",
     "text": [
      "\n",
      "----------    ++    -------------    ++    ----------\n",
      "\n",
      "           Score Akurasi Pada Data Training\n",
      "                      Algoritma KNN\n",
      "\n",
      "----------    ++    -------------    ++    ----------\n",
      "\n",
      "\n",
      "                  76.77046018186829 \n",
      "\n",
      "\n",
      "----------    ++    -------------    ++    ----------\n",
      "\n"
     ]
    }
   ],
   "source": [
    "print(\"\\n----------    ++    -------------    ++    ----------\")\n",
    "print(\"\\n           Score Akurasi Pada Data Training\\n                      Algoritma KNN\\n\")\n",
    "print(\"----------    ++    -------------    ++    ----------\\n\\n\")\n",
    "print(\"                 \", modelKNN.score(X_train, Y_train)*100, \"\\n\\n\\n----------    ++    -------------    ++    ----------\\n\")"
   ]
  },
  {
   "cell_type": "markdown",
   "id": "084f60d1-3ca1-4ef0-baf9-671f4e1adf4b",
   "metadata": {},
   "source": [
    "### Menampilkan score akurasi pada data testing"
   ]
  },
  {
   "cell_type": "code",
   "execution_count": 67,
   "id": "02bd2428-7ae5-4442-bf9a-512bafeae28d",
   "metadata": {},
   "outputs": [
    {
     "name": "stdout",
     "output_type": "stream",
     "text": [
      "\n",
      "----------    ++    -------------    ++    ----------\n",
      "\n",
      "           Score Akurasi Pada Data Testing\n",
      "                      Algoritma KNN\n",
      "\n",
      "----------    ++    -------------    ++    ----------\n",
      "\n",
      "\n",
      "                  67.62114537444934 \n",
      "\n",
      "\n",
      "----------    ++    -------------    ++    ----------\n",
      "\n"
     ]
    }
   ],
   "source": [
    "print(\"\\n----------    ++    -------------    ++    ----------\")\n",
    "print(\"\\n           Score Akurasi Pada Data Testing\\n                      Algoritma KNN\\n\")\n",
    "print(\"----------    ++    -------------    ++    ----------\\n\\n\")\n",
    "print(\"                 \", modelKNN.score(X_test, Y_test)*100, \"\\n\\n\\n----------    ++    -------------    ++    ----------\\n\")"
   ]
  },
  {
   "cell_type": "markdown",
   "id": "291533e9-18b3-4a89-a461-c8bf739e8944",
   "metadata": {
    "tags": []
   },
   "source": [
    "#### ----------------------------------------------------------------------------------------------------------------------------------- \n",
    "### Naive Bayes\n",
    "#### ----------------------------------------------------------------------------------------------------------------------------------- "
   ]
  },
  {
   "cell_type": "markdown",
   "id": "63f2753f-2fae-463b-9cac-98f8cde00b78",
   "metadata": {},
   "source": [
    "### Training model"
   ]
  },
  {
   "cell_type": "code",
   "execution_count": 21,
   "id": "e7ca0568-6287-4b72-84db-3c066f38b822",
   "metadata": {},
   "outputs": [],
   "source": [
    "from sklearn.naive_bayes import GaussianNB\n",
    "from sklearn.metrics import accuracy_score"
   ]
  },
  {
   "cell_type": "code",
   "execution_count": 22,
   "id": "c595c0a0-de3e-407a-9b5e-7c382258f8c5",
   "metadata": {},
   "outputs": [],
   "source": [
    "gnb = GaussianNB().fit(X_train, Y_train)"
   ]
  },
  {
   "cell_type": "markdown",
   "id": "8b28a416-af15-49e8-929a-453ed55cc9fe",
   "metadata": {},
   "source": [
    "### Membuat nilai prediksi dari testing set"
   ]
  },
  {
   "cell_type": "code",
   "execution_count": 112,
   "id": "dee631d9-6669-4c37-93e2-5aa006aa22b8",
   "metadata": {},
   "outputs": [],
   "source": [
    "y_predict = gnb.predict(X_test)"
   ]
  },
  {
   "cell_type": "markdown",
   "id": "7d28602b-4463-4128-a58d-d1729e7be8cb",
   "metadata": {},
   "source": [
    "### Menampilkan score akurasi dari nilai prediksi"
   ]
  },
  {
   "cell_type": "code",
   "execution_count": 113,
   "id": "c703a46a-e05d-4546-a23d-eb72fd9f0efd",
   "metadata": {},
   "outputs": [
    {
     "name": "stdout",
     "output_type": "stream",
     "text": [
      "\n",
      "----------    ++    -------------    ++    ----------\n",
      "\n",
      "           Score Akurasi Pada Data Testing\n",
      "               Algoritma Naive Bayes\n",
      "\n",
      "----------    ++    -------------    ++    ----------\n",
      "\n",
      "\n",
      "                  65.96916299559471 \n",
      "\n",
      "\n",
      "----------    ++    -------------    ++    ----------\n",
      "\n"
     ]
    }
   ],
   "source": [
    "print(\"\\n----------    ++    -------------    ++    ----------\")\n",
    "print(\"\\n           Score Akurasi Pada Data Testing\\n               Algoritma Naive Bayes\\n\")\n",
    "print(\"----------    ++    -------------    ++    ----------\\n\\n\")\n",
    "print(\"                 \", accuracy_score(Y_test, y_predict)*100, \"\\n\\n\\n----------    ++    -------------    ++    ----------\\n\")"
   ]
  },
  {
   "cell_type": "markdown",
   "id": "a3b5e9d2-2152-45ea-9990-60cb42cfd99b",
   "metadata": {},
   "source": [
    "#### ----------------------------------------------------------------------------------------------------------------------------------- \n",
    "### Decision Tree\n",
    "#### ----------------------------------------------------------------------------------------------------------------------------------- "
   ]
  },
  {
   "cell_type": "code",
   "execution_count": 87,
   "id": "1b1b4886-33b9-4703-8a46-98a3e078c709",
   "metadata": {},
   "outputs": [],
   "source": [
    "from sklearn.tree import DecisionTreeClassifier"
   ]
  },
  {
   "cell_type": "code",
   "execution_count": 88,
   "id": "7a38abbd-f291-4b63-9592-871698ebf8b8",
   "metadata": {},
   "outputs": [],
   "source": [
    "modelDT = DecisionTreeClassifier().fit(X_train, Y_train)"
   ]
  },
  {
   "cell_type": "code",
   "execution_count": 96,
   "id": "b4d59e48-7df3-4791-88e3-597abd02dedf",
   "metadata": {},
   "outputs": [
    {
     "name": "stdout",
     "output_type": "stream",
     "text": [
      "\n",
      "----------    ++    -------------    ++    ----------\n",
      "\n",
      "           Score Akurasi Pada Data Training\n",
      "              Algoritma Decision Tree\n",
      "\n",
      "----------    ++    -------------    ++    ----------\n",
      "\n",
      "\n",
      "                  90.27280242491045 \n",
      "\n",
      "\n",
      "----------    ++    -------------    ++    ----------\n",
      "\n"
     ]
    }
   ],
   "source": [
    "print(\"\\n----------    ++    -------------    ++    ----------\")\n",
    "print(\"\\n           Score Akurasi Pada Data Training\\n              Algoritma Decision Tree\\n\")\n",
    "print(\"----------    ++    -------------    ++    ----------\\n\\n\")\n",
    "print(\"                 \", modelDT.score(X_train, Y_train)*100, \"\\n\\n\\n----------    ++    -------------    ++    ----------\\n\")"
   ]
  },
  {
   "cell_type": "code",
   "execution_count": 98,
   "id": "eef8d9a0-7096-40e2-aaf7-49039a0bfdf7",
   "metadata": {},
   "outputs": [
    {
     "name": "stdout",
     "output_type": "stream",
     "text": [
      "\n",
      "----------    ++    -------------    ++    ----------\n",
      "\n",
      "           Score Akurasi Pada Data Testing\n",
      "              Algoritma Decision Tree\n",
      "\n",
      "----------    ++    -------------    ++    ----------\n",
      "\n",
      "\n",
      "                  69.7136563876652 \n",
      "\n",
      "\n",
      "----------    ++    -------------    ++    ----------\n",
      "\n"
     ]
    }
   ],
   "source": [
    "print(\"\\n----------    ++    -------------    ++    ----------\")\n",
    "print(\"\\n           Score Akurasi Pada Data Testing\\n              Algoritma Decision Tree\\n\")\n",
    "print(\"----------    ++    -------------    ++    ----------\\n\\n\")\n",
    "print(\"                 \", modelDT.score(X_test, Y_test)*100, \"\\n\\n\\n----------    ++    -------------    ++    ----------\\n\")"
   ]
  },
  {
   "cell_type": "markdown",
   "id": "bcd9664b-e49f-4e26-8856-4767348d67db",
   "metadata": {},
   "source": [
    "## Membandingan score akurasi tiap algoritma"
   ]
  },
  {
   "cell_type": "code",
   "execution_count": 117,
   "id": "f6d14faf-5d06-469f-a690-7d4880c9527a",
   "metadata": {},
   "outputs": [
    {
     "name": "stdout",
     "output_type": "stream",
     "text": [
      "\n",
      "-----------------    ++    ----------------    ++    -----------------\n",
      "\n",
      "  ==================================================================\n",
      "   |    ALGORITMA    |       TRAINING       |       TESTING       |\n",
      "  ==================================================================\n",
      "\n",
      "   |       KNN       |   76.77046018186829  |  67.62114537444934  |\n",
      "\n",
      "   |   Naive Bayes   |             65.96916299559471              |\n",
      "\n",
      "   |  Decision Tree  |   90.27280242491045  |  69.7136563876652   |\n",
      "\n",
      "  ==================================================================\n",
      "\n",
      "\n",
      "-----------------    ++    ----------------    ++    -----------------\n"
     ]
    }
   ],
   "source": [
    "print(\"\\n-----------------    ++    ----------------    ++    -----------------\")\n",
    "print(\"\\n  ==================================================================\")\n",
    "print(\"   |    ALGORITMA    |       TRAINING       |       TESTING       |\")\n",
    "print(\"  ==================================================================\")\n",
    "print(\"\\n   |       KNN       |  \", modelKNN.score(X_train, Y_train)*100, \" | \", modelKNN.score(X_test, Y_test)*100, \" |\")\n",
    "print(\"\\n   |   Naive Bayes   |            \", accuracy_score(Y_test, y_predict)*100, \"             |\")\n",
    "print(\"\\n   |  Decision Tree  |  \", modelDT.score(X_train, Y_train)*100, \" | \", modelDT.score(X_test, Y_test)*100, \"  |\")\n",
    "\n",
    "print(\"\\n  ==================================================================\")\n",
    "print(\"\\n\\n-----------------    ++    ----------------    ++    -----------------\")"
   ]
  }
 ],
 "metadata": {
  "kernelspec": {
   "display_name": "Python 3 (ipykernel)",
   "language": "python",
   "name": "python3"
  },
  "language_info": {
   "codemirror_mode": {
    "name": "ipython",
    "version": 3
   },
   "file_extension": ".py",
   "mimetype": "text/x-python",
   "name": "python",
   "nbconvert_exporter": "python",
   "pygments_lexer": "ipython3",
   "version": "3.10.7"
  }
 },
 "nbformat": 4,
 "nbformat_minor": 5
}
