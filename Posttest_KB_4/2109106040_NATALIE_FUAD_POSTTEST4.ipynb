{
 "cells": [
  {
   "cell_type": "markdown",
   "id": "be78a065-2911-486f-a19f-edc583e41053",
   "metadata": {},
   "source": [
    "### ----------------------------------------------------------------------\n",
    "### Nama     : Natalie Fuad\n",
    "### NIM     : 2109106040\n",
    "### ----------------------------------------------------------------------\n",
    "## POSTTEST 4 - PRATIKUM KECERDASAN BUATAN\n",
    "### ----------------------------------------------------------------------"
   ]
  },
  {
   "cell_type": "code",
   "execution_count": 505,
   "id": "ee77ba8c-ad5c-4085-b2ab-5a393ea67957",
   "metadata": {},
   "outputs": [],
   "source": [
    "import pandas as pd\n",
    "from matplotlib import pyplot as plt\n",
    "import numpy as np"
   ]
  },
  {
   "cell_type": "code",
   "execution_count": 426,
   "id": "8c99ec78-fd8e-4c13-8e8a-579e9b4a6cac",
   "metadata": {},
   "outputs": [],
   "source": [
    "df = pd.read_csv(\"Smartphone_Evolution.csv\")"
   ]
  },
  {
   "cell_type": "code",
   "execution_count": 427,
   "id": "8753f2ae-30ed-4922-b1a4-b80e03368ae5",
   "metadata": {},
   "outputs": [
    {
     "data": {
      "text/html": [
       "<div>\n",
       "<style scoped>\n",
       "    .dataframe tbody tr th:only-of-type {\n",
       "        vertical-align: middle;\n",
       "    }\n",
       "\n",
       "    .dataframe tbody tr th {\n",
       "        vertical-align: top;\n",
       "    }\n",
       "\n",
       "    .dataframe thead th {\n",
       "        text-align: right;\n",
       "    }\n",
       "</style>\n",
       "<table border=\"1\" class=\"dataframe\">\n",
       "  <thead>\n",
       "    <tr style=\"text-align: right;\">\n",
       "      <th></th>\n",
       "      <th>Brand</th>\n",
       "      <th>Model</th>\n",
       "      <th>OS</th>\n",
       "      <th>Release_Date</th>\n",
       "      <th>Battery</th>\n",
       "      <th>Processor</th>\n",
       "      <th>Memory</th>\n",
       "      <th>Primary_Storage</th>\n",
       "      <th>External_Storage</th>\n",
       "      <th>Display_Size</th>\n",
       "      <th>Display_Resolution</th>\n",
       "      <th>Display_Refresh_Rate</th>\n",
       "      <th>Primary_Camera</th>\n",
       "      <th>Front_Camera</th>\n",
       "    </tr>\n",
       "  </thead>\n",
       "  <tbody>\n",
       "    <tr>\n",
       "      <th>0</th>\n",
       "      <td>ARCHOS</td>\n",
       "      <td>40 Cesium</td>\n",
       "      <td>Windows Phone 8.1</td>\n",
       "      <td>NaN</td>\n",
       "      <td>1950.0</td>\n",
       "      <td>Qualcomm Snapdragon 200</td>\n",
       "      <td>0.5</td>\n",
       "      <td>4.0</td>\n",
       "      <td>microSDXC</td>\n",
       "      <td>4.0</td>\n",
       "      <td>800 x 480</td>\n",
       "      <td>NaN</td>\n",
       "      <td>5.0</td>\n",
       "      <td>0.3</td>\n",
       "    </tr>\n",
       "    <tr>\n",
       "      <th>1</th>\n",
       "      <td>ARCHOS</td>\n",
       "      <td>40 Titanium</td>\n",
       "      <td>Android 4.2.2</td>\n",
       "      <td>NaN</td>\n",
       "      <td>1500.0</td>\n",
       "      <td>MediaTek</td>\n",
       "      <td>0.5</td>\n",
       "      <td>NaN</td>\n",
       "      <td>microSDHC</td>\n",
       "      <td>4.0</td>\n",
       "      <td>800 x 480</td>\n",
       "      <td>NaN</td>\n",
       "      <td>5.0</td>\n",
       "      <td>0.3</td>\n",
       "    </tr>\n",
       "    <tr>\n",
       "      <th>2</th>\n",
       "      <td>ARCHOS</td>\n",
       "      <td>40b Titanium</td>\n",
       "      <td>Android 4.2.2</td>\n",
       "      <td>NaN</td>\n",
       "      <td>1400.0</td>\n",
       "      <td>MediaTek</td>\n",
       "      <td>0.5</td>\n",
       "      <td>4.0</td>\n",
       "      <td>microSD</td>\n",
       "      <td>4.0</td>\n",
       "      <td>800 x 480</td>\n",
       "      <td>NaN</td>\n",
       "      <td>5.0</td>\n",
       "      <td>0.3</td>\n",
       "    </tr>\n",
       "    <tr>\n",
       "      <th>3</th>\n",
       "      <td>ARCHOS</td>\n",
       "      <td>45 Titanium</td>\n",
       "      <td>Android 4.2.2</td>\n",
       "      <td>NaN</td>\n",
       "      <td>1680.0</td>\n",
       "      <td>MediaTek</td>\n",
       "      <td>0.5</td>\n",
       "      <td>NaN</td>\n",
       "      <td>microSDHC</td>\n",
       "      <td>4.5</td>\n",
       "      <td>854 x 480</td>\n",
       "      <td>NaN</td>\n",
       "      <td>5.0</td>\n",
       "      <td>0.3</td>\n",
       "    </tr>\n",
       "    <tr>\n",
       "      <th>4</th>\n",
       "      <td>ARCHOS</td>\n",
       "      <td>45b Helium 4G</td>\n",
       "      <td>Android 4.4.4</td>\n",
       "      <td>NaN</td>\n",
       "      <td>1850.0</td>\n",
       "      <td>Qualcomm Snapdragon 410</td>\n",
       "      <td>0.5</td>\n",
       "      <td>4.0</td>\n",
       "      <td>microSDXC</td>\n",
       "      <td>4.5</td>\n",
       "      <td>854 x 480</td>\n",
       "      <td>NaN</td>\n",
       "      <td>5.0</td>\n",
       "      <td>0.3</td>\n",
       "    </tr>\n",
       "  </tbody>\n",
       "</table>\n",
       "</div>"
      ],
      "text/plain": [
       "    Brand          Model                 OS Release_Date  Battery  \\\n",
       "0  ARCHOS      40 Cesium  Windows Phone 8.1          NaN   1950.0   \n",
       "1  ARCHOS    40 Titanium      Android 4.2.2          NaN   1500.0   \n",
       "2  ARCHOS   40b Titanium      Android 4.2.2          NaN   1400.0   \n",
       "3  ARCHOS    45 Titanium      Android 4.2.2          NaN   1680.0   \n",
       "4  ARCHOS  45b Helium 4G      Android 4.4.4          NaN   1850.0   \n",
       "\n",
       "                 Processor  Memory  Primary_Storage External_Storage  \\\n",
       "0  Qualcomm Snapdragon 200     0.5              4.0        microSDXC   \n",
       "1                 MediaTek     0.5              NaN        microSDHC   \n",
       "2                 MediaTek     0.5              4.0          microSD   \n",
       "3                 MediaTek     0.5              NaN        microSDHC   \n",
       "4  Qualcomm Snapdragon 410     0.5              4.0        microSDXC   \n",
       "\n",
       "   Display_Size Display_Resolution  Display_Refresh_Rate  Primary_Camera  \\\n",
       "0           4.0         800 x 480                    NaN             5.0   \n",
       "1           4.0         800 x 480                    NaN             5.0   \n",
       "2           4.0         800 x 480                    NaN             5.0   \n",
       "3           4.5         854 x 480                    NaN             5.0   \n",
       "4           4.5         854 x 480                    NaN             5.0   \n",
       "\n",
       "  Front_Camera  \n",
       "0         0.3   \n",
       "1         0.3   \n",
       "2         0.3   \n",
       "3         0.3   \n",
       "4         0.3   "
      ]
     },
     "execution_count": 427,
     "metadata": {},
     "output_type": "execute_result"
    }
   ],
   "source": [
    "df.head()"
   ]
  },
  {
   "cell_type": "markdown",
   "id": "e013a348-6c81-4626-abc9-8f5673763117",
   "metadata": {},
   "source": [
    "### Mengecek tipe data atribut dataset"
   ]
  },
  {
   "cell_type": "code",
   "execution_count": 428,
   "id": "304a7f37-23a6-406f-b55a-e960c635363b",
   "metadata": {},
   "outputs": [
    {
     "data": {
      "text/plain": [
       "Brand                    object\n",
       "Model                    object\n",
       "OS                       object\n",
       "Release_Date             object\n",
       "Battery                 float64\n",
       "Processor                object\n",
       "Memory                  float64\n",
       "Primary_Storage         float64\n",
       "External_Storage         object\n",
       "Display_Size            float64\n",
       "Display_Resolution       object\n",
       "Display_Refresh_Rate    float64\n",
       "Primary_Camera          float64\n",
       "Front_Camera             object\n",
       "dtype: object"
      ]
     },
     "execution_count": 428,
     "metadata": {},
     "output_type": "execute_result"
    }
   ],
   "source": [
    "df.dtypes"
   ]
  },
  {
   "cell_type": "markdown",
   "id": "f37f246c-f6ba-4343-ac51-1896860c3835",
   "metadata": {},
   "source": [
    "##### ---------------------------------------------------------------------------------------------------------------------------------------------------------------------------------------------------------\n",
    "## Bagi dataset menjadi training set dan testing set dengan proporsi 70:30\n",
    "### --------------------------------------------------------------------------------------------------------------------------------------------  Mengimport fungsi train_test_split dari sklearn"
   ]
  },
  {
   "cell_type": "code",
   "execution_count": 506,
   "id": "32c840a2-8103-4253-a976-952d293b23ed",
   "metadata": {},
   "outputs": [],
   "source": [
    "from sklearn.model_selection import train_test_split"
   ]
  },
  {
   "cell_type": "markdown",
   "id": "e1ce96ae-b255-4db6-a758-135fa60d3bcc",
   "metadata": {},
   "source": [
    "### Memasukkan dataset ke dalam variabel baru dengan nama var \"data_split\", yang nantinya akan dibagi menjadi 2 bagian (trainig & testing)"
   ]
  },
  {
   "cell_type": "code",
   "execution_count": 429,
   "id": "79260935-97d6-459c-8276-2df15871a6a3",
   "metadata": {},
   "outputs": [],
   "source": [
    "dataSplit = pd.read_csv(\"Smartphone_Evolution.csv\")"
   ]
  },
  {
   "cell_type": "code",
   "execution_count": 430,
   "id": "060e3ad0-5ada-446b-9deb-40d66e8c8560",
   "metadata": {},
   "outputs": [
    {
     "data": {
      "text/html": [
       "<div>\n",
       "<style scoped>\n",
       "    .dataframe tbody tr th:only-of-type {\n",
       "        vertical-align: middle;\n",
       "    }\n",
       "\n",
       "    .dataframe tbody tr th {\n",
       "        vertical-align: top;\n",
       "    }\n",
       "\n",
       "    .dataframe thead th {\n",
       "        text-align: right;\n",
       "    }\n",
       "</style>\n",
       "<table border=\"1\" class=\"dataframe\">\n",
       "  <thead>\n",
       "    <tr style=\"text-align: right;\">\n",
       "      <th></th>\n",
       "      <th>Brand</th>\n",
       "      <th>Model</th>\n",
       "      <th>OS</th>\n",
       "      <th>Release_Date</th>\n",
       "      <th>Battery</th>\n",
       "      <th>Processor</th>\n",
       "      <th>Memory</th>\n",
       "      <th>Primary_Storage</th>\n",
       "      <th>External_Storage</th>\n",
       "      <th>Display_Size</th>\n",
       "      <th>Display_Resolution</th>\n",
       "      <th>Display_Refresh_Rate</th>\n",
       "      <th>Primary_Camera</th>\n",
       "      <th>Front_Camera</th>\n",
       "    </tr>\n",
       "  </thead>\n",
       "  <tbody>\n",
       "    <tr>\n",
       "      <th>0</th>\n",
       "      <td>ARCHOS</td>\n",
       "      <td>40 Cesium</td>\n",
       "      <td>Windows Phone 8.1</td>\n",
       "      <td>NaN</td>\n",
       "      <td>1950.0</td>\n",
       "      <td>Qualcomm Snapdragon 200</td>\n",
       "      <td>0.5</td>\n",
       "      <td>4.0</td>\n",
       "      <td>microSDXC</td>\n",
       "      <td>4.0</td>\n",
       "      <td>800 x 480</td>\n",
       "      <td>NaN</td>\n",
       "      <td>5.0</td>\n",
       "      <td>0.3</td>\n",
       "    </tr>\n",
       "    <tr>\n",
       "      <th>1</th>\n",
       "      <td>ARCHOS</td>\n",
       "      <td>40 Titanium</td>\n",
       "      <td>Android 4.2.2</td>\n",
       "      <td>NaN</td>\n",
       "      <td>1500.0</td>\n",
       "      <td>MediaTek</td>\n",
       "      <td>0.5</td>\n",
       "      <td>NaN</td>\n",
       "      <td>microSDHC</td>\n",
       "      <td>4.0</td>\n",
       "      <td>800 x 480</td>\n",
       "      <td>NaN</td>\n",
       "      <td>5.0</td>\n",
       "      <td>0.3</td>\n",
       "    </tr>\n",
       "    <tr>\n",
       "      <th>2</th>\n",
       "      <td>ARCHOS</td>\n",
       "      <td>40b Titanium</td>\n",
       "      <td>Android 4.2.2</td>\n",
       "      <td>NaN</td>\n",
       "      <td>1400.0</td>\n",
       "      <td>MediaTek</td>\n",
       "      <td>0.5</td>\n",
       "      <td>4.0</td>\n",
       "      <td>microSD</td>\n",
       "      <td>4.0</td>\n",
       "      <td>800 x 480</td>\n",
       "      <td>NaN</td>\n",
       "      <td>5.0</td>\n",
       "      <td>0.3</td>\n",
       "    </tr>\n",
       "    <tr>\n",
       "      <th>3</th>\n",
       "      <td>ARCHOS</td>\n",
       "      <td>45 Titanium</td>\n",
       "      <td>Android 4.2.2</td>\n",
       "      <td>NaN</td>\n",
       "      <td>1680.0</td>\n",
       "      <td>MediaTek</td>\n",
       "      <td>0.5</td>\n",
       "      <td>NaN</td>\n",
       "      <td>microSDHC</td>\n",
       "      <td>4.5</td>\n",
       "      <td>854 x 480</td>\n",
       "      <td>NaN</td>\n",
       "      <td>5.0</td>\n",
       "      <td>0.3</td>\n",
       "    </tr>\n",
       "    <tr>\n",
       "      <th>4</th>\n",
       "      <td>ARCHOS</td>\n",
       "      <td>45b Helium 4G</td>\n",
       "      <td>Android 4.4.4</td>\n",
       "      <td>NaN</td>\n",
       "      <td>1850.0</td>\n",
       "      <td>Qualcomm Snapdragon 410</td>\n",
       "      <td>0.5</td>\n",
       "      <td>4.0</td>\n",
       "      <td>microSDXC</td>\n",
       "      <td>4.5</td>\n",
       "      <td>854 x 480</td>\n",
       "      <td>NaN</td>\n",
       "      <td>5.0</td>\n",
       "      <td>0.3</td>\n",
       "    </tr>\n",
       "  </tbody>\n",
       "</table>\n",
       "</div>"
      ],
      "text/plain": [
       "    Brand          Model                 OS Release_Date  Battery  \\\n",
       "0  ARCHOS      40 Cesium  Windows Phone 8.1          NaN   1950.0   \n",
       "1  ARCHOS    40 Titanium      Android 4.2.2          NaN   1500.0   \n",
       "2  ARCHOS   40b Titanium      Android 4.2.2          NaN   1400.0   \n",
       "3  ARCHOS    45 Titanium      Android 4.2.2          NaN   1680.0   \n",
       "4  ARCHOS  45b Helium 4G      Android 4.4.4          NaN   1850.0   \n",
       "\n",
       "                 Processor  Memory  Primary_Storage External_Storage  \\\n",
       "0  Qualcomm Snapdragon 200     0.5              4.0        microSDXC   \n",
       "1                 MediaTek     0.5              NaN        microSDHC   \n",
       "2                 MediaTek     0.5              4.0          microSD   \n",
       "3                 MediaTek     0.5              NaN        microSDHC   \n",
       "4  Qualcomm Snapdragon 410     0.5              4.0        microSDXC   \n",
       "\n",
       "   Display_Size Display_Resolution  Display_Refresh_Rate  Primary_Camera  \\\n",
       "0           4.0         800 x 480                    NaN             5.0   \n",
       "1           4.0         800 x 480                    NaN             5.0   \n",
       "2           4.0         800 x 480                    NaN             5.0   \n",
       "3           4.5         854 x 480                    NaN             5.0   \n",
       "4           4.5         854 x 480                    NaN             5.0   \n",
       "\n",
       "  Front_Camera  \n",
       "0         0.3   \n",
       "1         0.3   \n",
       "2         0.3   \n",
       "3         0.3   \n",
       "4         0.3   "
      ]
     },
     "execution_count": 430,
     "metadata": {},
     "output_type": "execute_result"
    }
   ],
   "source": [
    "dataSplit.head()"
   ]
  },
  {
   "cell_type": "markdown",
   "id": "8118783d-8949-4132-bc2e-65a3b4a13b40",
   "metadata": {},
   "source": [
    "#### Mengecek panjang record dan atribut"
   ]
  },
  {
   "cell_type": "code",
   "execution_count": 431,
   "id": "04464e73-4cd0-4299-803b-51e1054a7049",
   "metadata": {},
   "outputs": [
    {
     "data": {
      "text/plain": [
       "(4537, 14)"
      ]
     },
     "execution_count": 431,
     "metadata": {},
     "output_type": "execute_result"
    }
   ],
   "source": [
    "dataSplit.shape"
   ]
  },
  {
   "cell_type": "markdown",
   "id": "23b7d623-4ace-4e2f-8de2-c26fc3cedca3",
   "metadata": {},
   "source": [
    "#### Memasukkan dataset ke 2 variabel baru menggunakan fungsi iloc, dimana variabel x mengecualikan atribut index, lalu variabel y hanya menggambil data tanpa atributdan index."
   ]
  },
  {
   "cell_type": "code",
   "execution_count": 432,
   "id": "7e8c4698-c5ae-448c-835d-81c165a405b4",
   "metadata": {},
   "outputs": [],
   "source": [
    "x = dataSplit.iloc[:, :-1]\n",
    "y = dataSplit.iloc[:, -1]"
   ]
  },
  {
   "cell_type": "markdown",
   "id": "f8682c3b-4870-40fb-a4a5-8d297fb340a9",
   "metadata": {},
   "source": [
    "#### Membagi 2 dataset menggunakan fungsi train_test_split dengan proporsi 70:30"
   ]
  },
  {
   "cell_type": "code",
   "execution_count": 433,
   "id": "2051db6b-657b-4e10-91c2-85f9a5a3bf24",
   "metadata": {},
   "outputs": [],
   "source": [
    "x_train, x_test, y_train, y_test = train_test_split(x, y, test_size = 0.3)"
   ]
  },
  {
   "cell_type": "code",
   "execution_count": 434,
   "id": "35be324a-4f46-4357-9bae-73d5eb6154db",
   "metadata": {},
   "outputs": [
    {
     "name": "stdout",
     "output_type": "stream",
     "text": [
      "\n",
      "----------    ++    -------------    ++    ----------\n",
      "\n",
      "         Dataset setelah dilakukan splitting\n",
      "\n",
      "----------    ++    -------------    ++    ----------\n",
      "\n",
      "  Dimensi dari x_train :  (3175, 13)\n",
      "  Dimensi dari x_test :  (1362, 13)\n",
      "  Dimensi dari y_train :  (3175,)\n",
      "  Dimensi dari y_test :  (1362,)\n",
      "\n",
      "----------    ++    -------------    ++    ----------\n",
      "\n"
     ]
    }
   ],
   "source": [
    "print(\"\\n----------    ++    -------------    ++    ----------\\n\")\n",
    "print(\"         Dataset setelah dilakukan splitting\")\n",
    "print(\"\\n----------    ++    -------------    ++    ----------\\n\")\n",
    "\n",
    "print(\"  Dimensi dari x_train : \", x_train.shape)\n",
    "print(\"  Dimensi dari x_test : \", x_test.shape)\n",
    "print(\"  Dimensi dari y_train : \", y_train.shape)\n",
    "print(\"  Dimensi dari y_test : \", y_test.shape)\n",
    "\n",
    "print(\"\\n----------    ++    -------------    ++    ----------\\n\")"
   ]
  },
  {
   "cell_type": "markdown",
   "id": "2edef7f0-bc7e-41ea-87b5-1ba5bb0f2725",
   "metadata": {},
   "source": [
    "##### ---------------------------------------------------------------------------------------------------------------------------------------------------------------------------------------------------------\n",
    "## Lakukan normalisasi data pada salah satu attribute menggunakan Min Max scaler (buatlah copy dataset terlebih dahulu)\n",
    "### --------------------------------------------------------------------------------------------------------------------------------------------  Mengcopy dataset untuk normalisasi"
   ]
  },
  {
   "cell_type": "code",
   "execution_count": 435,
   "id": "42291b25-bec1-449e-ad4b-85417b35301e",
   "metadata": {},
   "outputs": [],
   "source": [
    "datasetCopyNorm = df.copy()"
   ]
  },
  {
   "cell_type": "markdown",
   "id": "f75c1bcc-9907-477f-bd85-d3caec653854",
   "metadata": {},
   "source": [
    "### Mengimport fungsi Min Max Scaler dari sklearn"
   ]
  },
  {
   "cell_type": "code",
   "execution_count": 436,
   "id": "b0620e34-1986-4d44-a655-6744ecaaef92",
   "metadata": {},
   "outputs": [],
   "source": [
    "from sklearn.preprocessing import MinMaxScaler"
   ]
  },
  {
   "cell_type": "markdown",
   "id": "f4237a30-87c1-47d7-8f01-7ddcdf507888",
   "metadata": {},
   "source": [
    "### Proses Normalisasi atribut 'Battery' menggunakan fungsi MinMaxScaler"
   ]
  },
  {
   "cell_type": "code",
   "execution_count": 437,
   "id": "79a63417-cc47-4517-ba61-e2c38528fe60",
   "metadata": {},
   "outputs": [],
   "source": [
    "minMaxScaler = MinMaxScaler()"
   ]
  },
  {
   "cell_type": "code",
   "execution_count": 438,
   "id": "0f5f8dec-16c3-42e2-94b8-ffd0fda2d837",
   "metadata": {},
   "outputs": [],
   "source": [
    "normalisasi = minMaxScaler.fit_transform(\n",
    "    datasetCopyNorm[['Battery']]\n",
    ")"
   ]
  },
  {
   "cell_type": "code",
   "execution_count": 439,
   "id": "136636d2-3753-456d-9478-8b16af1042c7",
   "metadata": {},
   "outputs": [],
   "source": [
    "dataNorm = pd.DataFrame(normalisasi)"
   ]
  },
  {
   "cell_type": "code",
   "execution_count": 440,
   "id": "3e286006-acf8-4239-a9a9-d39e5c2b2648",
   "metadata": {},
   "outputs": [
    {
     "data": {
      "text/html": [
       "<div>\n",
       "<style scoped>\n",
       "    .dataframe tbody tr th:only-of-type {\n",
       "        vertical-align: middle;\n",
       "    }\n",
       "\n",
       "    .dataframe tbody tr th {\n",
       "        vertical-align: top;\n",
       "    }\n",
       "\n",
       "    .dataframe thead th {\n",
       "        text-align: right;\n",
       "    }\n",
       "</style>\n",
       "<table border=\"1\" class=\"dataframe\">\n",
       "  <thead>\n",
       "    <tr style=\"text-align: right;\">\n",
       "      <th></th>\n",
       "      <th>0</th>\n",
       "    </tr>\n",
       "  </thead>\n",
       "  <tbody>\n",
       "    <tr>\n",
       "      <th>0</th>\n",
       "      <td>0.179455</td>\n",
       "    </tr>\n",
       "    <tr>\n",
       "      <th>1</th>\n",
       "      <td>0.123762</td>\n",
       "    </tr>\n",
       "    <tr>\n",
       "      <th>2</th>\n",
       "      <td>0.111386</td>\n",
       "    </tr>\n",
       "    <tr>\n",
       "      <th>3</th>\n",
       "      <td>0.146040</td>\n",
       "    </tr>\n",
       "    <tr>\n",
       "      <th>4</th>\n",
       "      <td>0.167079</td>\n",
       "    </tr>\n",
       "  </tbody>\n",
       "</table>\n",
       "</div>"
      ],
      "text/plain": [
       "          0\n",
       "0  0.179455\n",
       "1  0.123762\n",
       "2  0.111386\n",
       "3  0.146040\n",
       "4  0.167079"
      ]
     },
     "execution_count": 440,
     "metadata": {},
     "output_type": "execute_result"
    }
   ],
   "source": [
    "dataNorm.head()"
   ]
  },
  {
   "cell_type": "markdown",
   "id": "7892fbe6-52a7-4bcc-a354-dcde9993cf05",
   "metadata": {},
   "source": [
    "##### ---------------------------------------------------------------------------------------------------------------------------------------------------------------------------------------------------------\n",
    "## Lakukan standarisasi pada dataset (buatlah copy dataset terlebih dahulu)\n",
    "### --------------------------------------------------------------------------------------------------------------------------------------------  Mengcopy dataset untuk standarisasi"
   ]
  },
  {
   "cell_type": "code",
   "execution_count": 441,
   "id": "08c3fc19-a41a-4f8d-aee7-3ff7012cdc6b",
   "metadata": {},
   "outputs": [],
   "source": [
    "datasetCopyStand = dataSplit.copy()"
   ]
  },
  {
   "cell_type": "markdown",
   "id": "0c5ced4c-7b5e-4e3a-9622-163589b55d06",
   "metadata": {},
   "source": [
    "### Menampilkan dataset sebelum dilakukan standarisasi menggunakan scaling"
   ]
  },
  {
   "cell_type": "code",
   "execution_count": 442,
   "id": "93961854-3551-4a94-963c-c8952a535e7d",
   "metadata": {},
   "outputs": [
    {
     "name": "stdout",
     "output_type": "stream",
     "text": [
      "\n",
      "----------    ++    -------------    ++    ----------\n",
      "\n",
      "     Data standarisasi sebelum dilakukan scaling \n",
      "\n",
      "----------    ++    -------------    ++    ----------\n",
      "\n",
      " Battery                 1169.758135\n",
      "Memory                     2.295602\n",
      "Primary_Storage           59.039797\n",
      "Display_Size               1.174793\n",
      "Display_Refresh_Rate      27.863280\n",
      "Primary_Camera            15.479746\n",
      "dtype: float64 \n",
      "\n",
      "----------    ++    -------------    ++    ----------\n",
      "\n"
     ]
    },
    {
     "name": "stderr",
     "output_type": "stream",
     "text": [
      "C:\\Users\\Acer\\AppData\\Local\\Programs\\Python\\Python310\\lib\\site-packages\\numpy\\core\\fromnumeric.py:3571: FutureWarning: Dropping of nuisance columns in DataFrame reductions (with 'numeric_only=None') is deprecated; in a future version this will raise TypeError.  Select only valid columns before calling the reduction.\n",
      "  return std(axis=axis, dtype=dtype, out=out, ddof=ddof, **kwargs)\n"
     ]
    }
   ],
   "source": [
    "print(\"\\n----------    ++    -------------    ++    ----------\")\n",
    "print(\"\\n     Data standarisasi sebelum dilakukan scaling \\n\")\n",
    "print(\"----------    ++    -------------    ++    ----------\")\n",
    "print(\"\\n\", np.std(datasetCopyStand), \"\\n\\n----------    ++    -------------    ++    ----------\\n\")"
   ]
  },
  {
   "cell_type": "markdown",
   "id": "a5caa5e8-f17e-40e0-a0ce-344aaa2426b1",
   "metadata": {},
   "source": [
    "### Mengimport fungsi StandarScaler dari sklearn"
   ]
  },
  {
   "cell_type": "code",
   "execution_count": 443,
   "id": "2102ef5b-c6ec-48ab-9a38-923ed71885cf",
   "metadata": {},
   "outputs": [],
   "source": [
    "from sklearn.preprocessing import StandardScaler"
   ]
  },
  {
   "cell_type": "markdown",
   "id": "b766c485-bc85-4fd0-9425-7b0955a1821f",
   "metadata": {},
   "source": [
    "### Proses Standarisasi dataset menggunakan fungsi StandarScaler"
   ]
  },
  {
   "cell_type": "code",
   "execution_count": 444,
   "id": "8a6a5efd-7d95-44f7-ab31-b338568f2d2b",
   "metadata": {},
   "outputs": [],
   "source": [
    "standScaler = StandardScaler()"
   ]
  },
  {
   "cell_type": "code",
   "execution_count": 445,
   "id": "b4ec6dc0-9687-44ff-9065-571ecb8994af",
   "metadata": {},
   "outputs": [],
   "source": [
    "standarisasi = standScaler.fit_transform(\n",
    "    datasetCopyStand[['Battery', 'Memory', 'Primary_Storage', 'Display_Size', 'Display_Refresh_Rate', 'Primary_Camera']]\n",
    ")"
   ]
  },
  {
   "cell_type": "code",
   "execution_count": 446,
   "id": "15f4ca80-b164-41d8-b4ed-0dedb8470e93",
   "metadata": {},
   "outputs": [
    {
     "name": "stdout",
     "output_type": "stream",
     "text": [
      "\n",
      "----------    ++    -------------    ++    ----------\n",
      "\n",
      "     Data standarisasi setelah dilakukan scaling \n",
      "\n",
      "----------    ++    -------------    ++    ----------\n",
      "\n",
      " [[-0.40753157 -0.66348318 -0.51315551 -0.62638552         nan -0.43377561]\n",
      " [-0.79222648 -0.66348318         nan -0.62638552         nan -0.43377561]\n",
      " [-0.87771424 -0.66348318 -0.51315551 -0.62638552         nan -0.43377561]\n",
      " ...\n",
      " [ 0.71235806  0.86117144  0.50310815  1.24628409         nan  0.08302873]\n",
      " [ 1.37061379 -0.01005977 -0.03889913  1.24628409         nan  0.08302873]\n",
      " [ 1.37061379  0.86117144  0.50310815  1.24628409         nan  0.08302873]] \n",
      "\n",
      "                         nan \n",
      "\n",
      "----------    ++    -------------    ++    ----------\n",
      "\n"
     ]
    }
   ],
   "source": [
    "print(\"\\n----------    ++    -------------    ++    ----------\")\n",
    "print(\"\\n     Data standarisasi setelah dilakukan scaling \\n\")\n",
    "print(\"----------    ++    -------------    ++    ----------\")\n",
    "print(\"\\n\", standarisasi, \"\\n\\n                        \", np.std(standarisasi), \"\\n\\n----------    ++    -------------    ++    ----------\\n\")"
   ]
  },
  {
   "cell_type": "markdown",
   "id": "fad12133-5b2b-4f0f-8db7-f13f4514c335",
   "metadata": {},
   "source": [
    "##### ---------------------------------------------------------------------------------------------------------------------------------------------------------------------------------------------------------\n",
    "## Lakukan Data cleaning pada data dengan nilai null\n",
    "##### *(jika tidak ada nilai null pada dataset, maka buatlah menjadi ada).*\n",
    "## Ganti nilai null sesuai ketentuan.\n",
    "##### *(bilangan bulat : median/modus, bilangan desimal : mean, tulisan : modus).*\n",
    "### *Nilai plus jika strategy yang digunakan menggunakan 3 nilai*"
   ]
  },
  {
   "cell_type": "markdown",
   "id": "c47ad968-63a5-4272-a38a-9d23417bbe0f",
   "metadata": {},
   "source": [
    "### --------------------------------------------------------------------------------------------------------------------------------------------  Mengecek nilai null"
   ]
  },
  {
   "cell_type": "code",
   "execution_count": 447,
   "id": "c44c59b9-ae22-4ea0-84ed-17970fa534a1",
   "metadata": {},
   "outputs": [
    {
     "name": "stdout",
     "output_type": "stream",
     "text": [
      "\n",
      "----------    ++    -------------    ++    ----------\n",
      "\n",
      "       Dataset sebelum dilakukan data cleaning\n",
      "\n",
      "----------    ++    -------------    ++    ----------\n",
      "\n",
      "Brand                      0\n",
      "Model                      0\n",
      "OS                        18\n",
      "Release_Date            2190\n",
      "Battery                  169\n",
      "Processor               1429\n",
      "Memory                   472\n",
      "Primary_Storage          717\n",
      "External_Storage          55\n",
      "Display_Size             233\n",
      "Display_Resolution        82\n",
      "Display_Refresh_Rate    4227\n",
      "Primary_Camera            99\n",
      "Front_Camera            1233\n",
      "dtype: int64 \n",
      "\n",
      "----------    ++    -------------    ++    ----------\n",
      "\n"
     ]
    }
   ],
   "source": [
    "print(\"\\n----------    ++    -------------    ++    ----------\")\n",
    "print(\"\\n       Dataset sebelum dilakukan data cleaning\\n\")\n",
    "print(\"----------    ++    -------------    ++    ----------\\n\")\n",
    "print(df.isna().sum(), \"\\n\\n----------    ++    -------------    ++    ----------\\n\")"
   ]
  },
  {
   "cell_type": "markdown",
   "id": "dd6486ea-3dbc-4e37-8925-ec90c3e8a928",
   "metadata": {},
   "source": [
    "### Proses cleaning data mengunakan teknik subsitusi nilai"
   ]
  },
  {
   "cell_type": "markdown",
   "id": "5b1640da-1a6f-43ec-8240-6c50b6f1ad26",
   "metadata": {},
   "source": [
    "### Mengimport fungsi SimpleImputer dari sklearn"
   ]
  },
  {
   "cell_type": "code",
   "execution_count": 448,
   "id": "4f181ea2-8f0f-4cdd-923f-d6bf32cce023",
   "metadata": {},
   "outputs": [],
   "source": [
    "from sklearn.impute import SimpleImputer"
   ]
  },
  {
   "cell_type": "markdown",
   "id": "c640adac-01a2-4557-9b67-6c2f76e8b802",
   "metadata": {},
   "source": [
    "### Mengubah nilai null dari atribut ber-tipe data float menjadi mean"
   ]
  },
  {
   "cell_type": "code",
   "execution_count": 449,
   "id": "d4aaac23-5cc0-43eb-8afa-15641fa1986e",
   "metadata": {},
   "outputs": [],
   "source": [
    "simpleImptFloat = SimpleImputer(strategy = 'mean')"
   ]
  },
  {
   "cell_type": "code",
   "execution_count": 450,
   "id": "cacce46a-6930-492f-8708-83d48aa9b57d",
   "metadata": {},
   "outputs": [],
   "source": [
    "df['Battery'] = simpleImptFloat.fit_transform(df[['Battery']])\n",
    "df['Memory'] = simpleImptFloat.fit_transform(df[['Memory']])\n",
    "df['Primary_Storage'] = simpleImptFloat.fit_transform(df[['Primary_Storage']])\n",
    "df['Display_Size'] = simpleImptFloat.fit_transform(df[['Display_Size']])\n",
    "df['Display_Refresh_Rate'] = simpleImptFloat.fit_transform(df[['Display_Refresh_Rate']])\n",
    "df['Primary_Camera'] = simpleImptFloat.fit_transform(df[['Primary_Camera']])"
   ]
  },
  {
   "cell_type": "code",
   "execution_count": 451,
   "id": "28056857-c616-4883-a786-8f8d26087dc9",
   "metadata": {},
   "outputs": [
    {
     "name": "stdout",
     "output_type": "stream",
     "text": [
      "\n",
      "----------    ++    -------------    ++    ----------\n",
      "\n",
      "       Dataset setelah dilakukan data cleaning\n",
      "               (Data ber-tipe float)\n",
      "\n",
      "----------    ++    -------------    ++    ----------\n",
      "\n",
      "Brand                      0\n",
      "Model                      0\n",
      "OS                        18\n",
      "Release_Date            2190\n",
      "Battery                    0\n",
      "Processor               1429\n",
      "Memory                     0\n",
      "Primary_Storage            0\n",
      "External_Storage          55\n",
      "Display_Size               0\n",
      "Display_Resolution        82\n",
      "Display_Refresh_Rate       0\n",
      "Primary_Camera             0\n",
      "Front_Camera            1233\n",
      "dtype: int64 \n",
      "\n",
      "----------    ++    -------------    ++    ----------\n",
      "\n"
     ]
    }
   ],
   "source": [
    "print(\"\\n----------    ++    -------------    ++    ----------\")\n",
    "print(\"\\n       Dataset setelah dilakukan data cleaning\\n               (Data ber-tipe float)\\n\")\n",
    "print(\"----------    ++    -------------    ++    ----------\\n\")\n",
    "print(df.isna().sum(), \"\\n\\n----------    ++    -------------    ++    ----------\\n\")"
   ]
  },
  {
   "cell_type": "markdown",
   "id": "fd5af885-94a6-4eaf-ae56-c95533e2f399",
   "metadata": {},
   "source": [
    "### Mengubah nilai null dari atribut ber-tipe data object menjadi modus"
   ]
  },
  {
   "cell_type": "code",
   "execution_count": 452,
   "id": "e98e1c27-56e0-4421-afc1-21f5cdb9affc",
   "metadata": {},
   "outputs": [],
   "source": [
    "simpleImptObj = SimpleImputer(strategy = 'most_frequent')"
   ]
  },
  {
   "cell_type": "code",
   "execution_count": 453,
   "id": "1bbfdd86-6cc1-49a1-8b07-6e8271b22b7e",
   "metadata": {},
   "outputs": [],
   "source": [
    "df['OS'] = simpleImptObj.fit_transform(df[['OS']])\n",
    "df['Release_Date'] = simpleImptObj.fit_transform(df[['Release_Date']])\n",
    "df['Processor'] = simpleImptObj.fit_transform(df[['Processor']])\n",
    "df['External_Storage'] = simpleImptObj.fit_transform(df[['External_Storage']])\n",
    "df['Display_Resolution'] = simpleImptObj.fit_transform(df[['Display_Resolution']])\n",
    "df['Front_Camera'] = simpleImptObj.fit_transform(df[['Front_Camera']])"
   ]
  },
  {
   "cell_type": "code",
   "execution_count": 454,
   "id": "789e5527-c874-46e2-9a3c-883d87fc7b45",
   "metadata": {},
   "outputs": [
    {
     "name": "stdout",
     "output_type": "stream",
     "text": [
      "\n",
      "----------    ++    -------------    ++    ----------\n",
      "\n",
      "       Dataset setelah dilakukan data cleaning\n",
      "               (Data ber-tipe object)\n",
      "\n",
      "----------    ++    -------------    ++    ----------\n",
      "\n",
      "Brand                   0\n",
      "Model                   0\n",
      "OS                      0\n",
      "Release_Date            0\n",
      "Battery                 0\n",
      "Processor               0\n",
      "Memory                  0\n",
      "Primary_Storage         0\n",
      "External_Storage        0\n",
      "Display_Size            0\n",
      "Display_Resolution      0\n",
      "Display_Refresh_Rate    0\n",
      "Primary_Camera          0\n",
      "Front_Camera            0\n",
      "dtype: int64 \n",
      "\n",
      "----------    ++    -------------    ++    ----------\n",
      "\n"
     ]
    }
   ],
   "source": [
    "print(\"\\n----------    ++    -------------    ++    ----------\")\n",
    "print(\"\\n       Dataset setelah dilakukan data cleaning\\n               (Data ber-tipe object)\\n\")\n",
    "print(\"----------    ++    -------------    ++    ----------\\n\")\n",
    "print(df.isna().sum(), \"\\n\\n----------    ++    -------------    ++    ----------\\n\")"
   ]
  },
  {
   "cell_type": "markdown",
   "id": "1fac27f2-c6d6-44bc-a791-00168c4b98d7",
   "metadata": {},
   "source": [
    "##### ---------------------------------------------------------------------------------------------------------------------------------------------------------------------------------------------------------\n",
    "## Lakukan Data cleaning pada data dengan nilai duplikat.\n",
    "##### *(Jika tidak ada nilai duplikat pada dataset, maka buatlah menjadi ada)*\n",
    "### --------------------------------------------------------------------------------------------------------------------------------------------  Mengecek data yang terduplikat"
   ]
  },
  {
   "cell_type": "code",
   "execution_count": 455,
   "id": "3d46010f-0963-478f-bd98-e0e3f6168816",
   "metadata": {},
   "outputs": [
    {
     "data": {
      "text/html": [
       "<div>\n",
       "<style scoped>\n",
       "    .dataframe tbody tr th:only-of-type {\n",
       "        vertical-align: middle;\n",
       "    }\n",
       "\n",
       "    .dataframe tbody tr th {\n",
       "        vertical-align: top;\n",
       "    }\n",
       "\n",
       "    .dataframe thead th {\n",
       "        text-align: right;\n",
       "    }\n",
       "</style>\n",
       "<table border=\"1\" class=\"dataframe\">\n",
       "  <thead>\n",
       "    <tr style=\"text-align: right;\">\n",
       "      <th></th>\n",
       "      <th>Brand</th>\n",
       "      <th>Model</th>\n",
       "      <th>OS</th>\n",
       "      <th>Release_Date</th>\n",
       "      <th>Battery</th>\n",
       "      <th>Processor</th>\n",
       "      <th>Memory</th>\n",
       "      <th>Primary_Storage</th>\n",
       "      <th>External_Storage</th>\n",
       "      <th>Display_Size</th>\n",
       "      <th>Display_Resolution</th>\n",
       "      <th>Display_Refresh_Rate</th>\n",
       "      <th>Primary_Camera</th>\n",
       "      <th>Front_Camera</th>\n",
       "    </tr>\n",
       "  </thead>\n",
       "  <tbody>\n",
       "  </tbody>\n",
       "</table>\n",
       "</div>"
      ],
      "text/plain": [
       "Empty DataFrame\n",
       "Columns: [Brand, Model, OS, Release_Date, Battery, Processor, Memory, Primary_Storage, External_Storage, Display_Size, Display_Resolution, Display_Refresh_Rate, Primary_Camera, Front_Camera]\n",
       "Index: []"
      ]
     },
     "execution_count": 455,
     "metadata": {},
     "output_type": "execute_result"
    }
   ],
   "source": [
    "df[df.duplicated()]"
   ]
  },
  {
   "cell_type": "markdown",
   "id": "73570c4c-a5de-4528-8b14-e3fc20affb36",
   "metadata": {},
   "source": [
    "### Karena tidak ada data yang terduplikat maka akan saya tambahkan sendiri data yang sama"
   ]
  },
  {
   "cell_type": "markdown",
   "id": "6d898c94-6295-4a65-ba9b-2452b48ed5a2",
   "metadata": {},
   "source": [
    "### Pertama cek data paling akhir terlebih dahulu, karena saya akan menambahkan data pada index paling akhir"
   ]
  },
  {
   "cell_type": "code",
   "execution_count": 456,
   "id": "aa155702-cd8d-4888-8ffe-c0ddd0da8cef",
   "metadata": {},
   "outputs": [
    {
     "data": {
      "text/html": [
       "<div>\n",
       "<style scoped>\n",
       "    .dataframe tbody tr th:only-of-type {\n",
       "        vertical-align: middle;\n",
       "    }\n",
       "\n",
       "    .dataframe tbody tr th {\n",
       "        vertical-align: top;\n",
       "    }\n",
       "\n",
       "    .dataframe thead th {\n",
       "        text-align: right;\n",
       "    }\n",
       "</style>\n",
       "<table border=\"1\" class=\"dataframe\">\n",
       "  <thead>\n",
       "    <tr style=\"text-align: right;\">\n",
       "      <th></th>\n",
       "      <th>Brand</th>\n",
       "      <th>Model</th>\n",
       "      <th>OS</th>\n",
       "      <th>Release_Date</th>\n",
       "      <th>Battery</th>\n",
       "      <th>Processor</th>\n",
       "      <th>Memory</th>\n",
       "      <th>Primary_Storage</th>\n",
       "      <th>External_Storage</th>\n",
       "      <th>Display_Size</th>\n",
       "      <th>Display_Resolution</th>\n",
       "      <th>Display_Refresh_Rate</th>\n",
       "      <th>Primary_Camera</th>\n",
       "      <th>Front_Camera</th>\n",
       "    </tr>\n",
       "  </thead>\n",
       "  <tbody>\n",
       "    <tr>\n",
       "      <th>4532</th>\n",
       "      <td>vivo</td>\n",
       "      <td>Y11</td>\n",
       "      <td>Android 9.0 Pie</td>\n",
       "      <td>Oct 22, 2019</td>\n",
       "      <td>5000.0</td>\n",
       "      <td>Qualcomm Snapdragon 439</td>\n",
       "      <td>3.0</td>\n",
       "      <td>32.0</td>\n",
       "      <td>microSDXC</td>\n",
       "      <td>6.3</td>\n",
       "      <td>1544 x 720</td>\n",
       "      <td>96.629032</td>\n",
       "      <td>13.0</td>\n",
       "      <td>8</td>\n",
       "    </tr>\n",
       "    <tr>\n",
       "      <th>4533</th>\n",
       "      <td>vivo</td>\n",
       "      <td>Y19</td>\n",
       "      <td>Android 9.0 Pie</td>\n",
       "      <td>Nov 01, 2019</td>\n",
       "      <td>5000.0</td>\n",
       "      <td>MediaTek Helio P65</td>\n",
       "      <td>4.0</td>\n",
       "      <td>128.0</td>\n",
       "      <td>microSDXC</td>\n",
       "      <td>6.5</td>\n",
       "      <td>2340 x 1080</td>\n",
       "      <td>96.629032</td>\n",
       "      <td>16.0</td>\n",
       "      <td>16</td>\n",
       "    </tr>\n",
       "    <tr>\n",
       "      <th>4534</th>\n",
       "      <td>vivo</td>\n",
       "      <td>Y83 Pro</td>\n",
       "      <td>Android 8.1 Oreo</td>\n",
       "      <td>Aug 22, 2018</td>\n",
       "      <td>3260.0</td>\n",
       "      <td>MediaTek Helio P22</td>\n",
       "      <td>4.0</td>\n",
       "      <td>64.0</td>\n",
       "      <td>microSDXC</td>\n",
       "      <td>6.2</td>\n",
       "      <td>1520 x 720</td>\n",
       "      <td>96.629032</td>\n",
       "      <td>13.0</td>\n",
       "      <td>8</td>\n",
       "    </tr>\n",
       "    <tr>\n",
       "      <th>4535</th>\n",
       "      <td>vivo</td>\n",
       "      <td>Y91</td>\n",
       "      <td>Android 8.1 Oreo</td>\n",
       "      <td>Jan 15, 2019</td>\n",
       "      <td>4030.0</td>\n",
       "      <td>MediaTek Helio P22</td>\n",
       "      <td>2.0</td>\n",
       "      <td>32.0</td>\n",
       "      <td>microSDXC</td>\n",
       "      <td>6.2</td>\n",
       "      <td>1520 x 720</td>\n",
       "      <td>96.629032</td>\n",
       "      <td>13.0</td>\n",
       "      <td>8</td>\n",
       "    </tr>\n",
       "    <tr>\n",
       "      <th>4536</th>\n",
       "      <td>vivo</td>\n",
       "      <td>Y93</td>\n",
       "      <td>Android 8.1 Oreo</td>\n",
       "      <td>Dec 27, 2018</td>\n",
       "      <td>4030.0</td>\n",
       "      <td>MediaTek Helio P22</td>\n",
       "      <td>4.0</td>\n",
       "      <td>64.0</td>\n",
       "      <td>microSDXC</td>\n",
       "      <td>6.2</td>\n",
       "      <td>1520 x 720</td>\n",
       "      <td>96.629032</td>\n",
       "      <td>13.0</td>\n",
       "      <td>8</td>\n",
       "    </tr>\n",
       "  </tbody>\n",
       "</table>\n",
       "</div>"
      ],
      "text/plain": [
       "     Brand    Model                OS  Release_Date  Battery  \\\n",
       "4532  vivo      Y11   Android 9.0 Pie  Oct 22, 2019   5000.0   \n",
       "4533  vivo      Y19   Android 9.0 Pie  Nov 01, 2019   5000.0   \n",
       "4534  vivo  Y83 Pro  Android 8.1 Oreo  Aug 22, 2018   3260.0   \n",
       "4535  vivo      Y91  Android 8.1 Oreo  Jan 15, 2019   4030.0   \n",
       "4536  vivo      Y93  Android 8.1 Oreo  Dec 27, 2018   4030.0   \n",
       "\n",
       "                    Processor  Memory  Primary_Storage External_Storage  \\\n",
       "4532  Qualcomm Snapdragon 439     3.0             32.0        microSDXC   \n",
       "4533       MediaTek Helio P65     4.0            128.0        microSDXC   \n",
       "4534       MediaTek Helio P22     4.0             64.0        microSDXC   \n",
       "4535       MediaTek Helio P22     2.0             32.0        microSDXC   \n",
       "4536       MediaTek Helio P22     4.0             64.0        microSDXC   \n",
       "\n",
       "      Display_Size Display_Resolution  Display_Refresh_Rate  Primary_Camera  \\\n",
       "4532           6.3        1544 x 720              96.629032            13.0   \n",
       "4533           6.5       2340 x 1080              96.629032            16.0   \n",
       "4534           6.2        1520 x 720              96.629032            13.0   \n",
       "4535           6.2        1520 x 720              96.629032            13.0   \n",
       "4536           6.2        1520 x 720              96.629032            13.0   \n",
       "\n",
       "     Front_Camera  \n",
       "4532           8   \n",
       "4533          16   \n",
       "4534           8   \n",
       "4535           8   \n",
       "4536           8   "
      ]
     },
     "execution_count": 456,
     "metadata": {},
     "output_type": "execute_result"
    }
   ],
   "source": [
    "df.tail()"
   ]
  },
  {
   "cell_type": "markdown",
   "id": "487ac83d-b6e0-4c06-a1c7-1ec4f1d00262",
   "metadata": {},
   "source": [
    "### Proses penambahan data duplikat (menduplikat data index ke-14)"
   ]
  },
  {
   "cell_type": "code",
   "execution_count": 457,
   "id": "ecef0cf5-472e-4a5c-a29f-7d2ed9105298",
   "metadata": {},
   "outputs": [
    {
     "name": "stderr",
     "output_type": "stream",
     "text": [
      "C:\\Users\\Acer\\AppData\\Local\\Temp\\ipykernel_13464\\719954853.py:23: FutureWarning: The frame.append method is deprecated and will be removed from pandas in a future version. Use pandas.concat instead.\n",
      "  df = df.append([duplikat1, duplikat2], ignore_index=True)\n"
     ]
    }
   ],
   "source": [
    "duplikat1 = pd.DataFrame([['ARCHOS', '50c Oxygen', 'Android 4.2',     \n",
    "                              'Feb 20, 2014', 2000.0, 'MediaTek',\n",
    "                              1.0, 8.000000, 'microSDHC', 5.0,\n",
    "                              '1280 x 720', 96.629032, 8.0, 2]],\n",
    "                   columns=['Brand', 'Model', 'OS',\n",
    "                            'Release_Date', 'Battery',\n",
    "                            'Processor', 'Memory',\n",
    "                            'Primary_Storage', 'External_Storage',\n",
    "                            'Display_Size', 'Display_Resolution',\n",
    "                            'Display_Refresh_Rate', 'Primary_Camera', 'Front_Camera'])\n",
    "\n",
    "duplikat2 = pd.DataFrame([['ARCHOS', '50c Oxygen', 'Android 4.2',     \n",
    "                              'Feb 20, 2014', 2000.0, 'MediaTek',\n",
    "                              1.0, 8.000000, 'microSDHC', 5.0,\n",
    "                              '1280 x 720', 96.629032, 8.0, 2]],\n",
    "                   columns=['Brand', 'Model', 'OS',\n",
    "                            'Release_Date', 'Battery',\n",
    "                            'Processor', 'Memory',\n",
    "                            'Primary_Storage', 'External_Storage',\n",
    "                            'Display_Size', 'Display_Resolution',\n",
    "                            'Display_Refresh_Rate', 'Primary_Camera', 'Front_Camera'])\n",
    "\n",
    "df = df.append([duplikat1, duplikat2], ignore_index=True)"
   ]
  },
  {
   "cell_type": "markdown",
   "id": "01e1d0a0-01df-4de7-bb21-23ad7d9bce8c",
   "metadata": {},
   "source": [
    "### Mengecek kembali data paling akhir, dan data sudah tertambah"
   ]
  },
  {
   "cell_type": "code",
   "execution_count": 458,
   "id": "00f18cfd-722b-4cdd-9075-34efcc11f08d",
   "metadata": {},
   "outputs": [
    {
     "data": {
      "text/html": [
       "<div>\n",
       "<style scoped>\n",
       "    .dataframe tbody tr th:only-of-type {\n",
       "        vertical-align: middle;\n",
       "    }\n",
       "\n",
       "    .dataframe tbody tr th {\n",
       "        vertical-align: top;\n",
       "    }\n",
       "\n",
       "    .dataframe thead th {\n",
       "        text-align: right;\n",
       "    }\n",
       "</style>\n",
       "<table border=\"1\" class=\"dataframe\">\n",
       "  <thead>\n",
       "    <tr style=\"text-align: right;\">\n",
       "      <th></th>\n",
       "      <th>Brand</th>\n",
       "      <th>Model</th>\n",
       "      <th>OS</th>\n",
       "      <th>Release_Date</th>\n",
       "      <th>Battery</th>\n",
       "      <th>Processor</th>\n",
       "      <th>Memory</th>\n",
       "      <th>Primary_Storage</th>\n",
       "      <th>External_Storage</th>\n",
       "      <th>Display_Size</th>\n",
       "      <th>Display_Resolution</th>\n",
       "      <th>Display_Refresh_Rate</th>\n",
       "      <th>Primary_Camera</th>\n",
       "      <th>Front_Camera</th>\n",
       "    </tr>\n",
       "  </thead>\n",
       "  <tbody>\n",
       "    <tr>\n",
       "      <th>4534</th>\n",
       "      <td>vivo</td>\n",
       "      <td>Y83 Pro</td>\n",
       "      <td>Android 8.1 Oreo</td>\n",
       "      <td>Aug 22, 2018</td>\n",
       "      <td>3260.0</td>\n",
       "      <td>MediaTek Helio P22</td>\n",
       "      <td>4.0</td>\n",
       "      <td>64.0</td>\n",
       "      <td>microSDXC</td>\n",
       "      <td>6.2</td>\n",
       "      <td>1520 x 720</td>\n",
       "      <td>96.629032</td>\n",
       "      <td>13.0</td>\n",
       "      <td>8</td>\n",
       "    </tr>\n",
       "    <tr>\n",
       "      <th>4535</th>\n",
       "      <td>vivo</td>\n",
       "      <td>Y91</td>\n",
       "      <td>Android 8.1 Oreo</td>\n",
       "      <td>Jan 15, 2019</td>\n",
       "      <td>4030.0</td>\n",
       "      <td>MediaTek Helio P22</td>\n",
       "      <td>2.0</td>\n",
       "      <td>32.0</td>\n",
       "      <td>microSDXC</td>\n",
       "      <td>6.2</td>\n",
       "      <td>1520 x 720</td>\n",
       "      <td>96.629032</td>\n",
       "      <td>13.0</td>\n",
       "      <td>8</td>\n",
       "    </tr>\n",
       "    <tr>\n",
       "      <th>4536</th>\n",
       "      <td>vivo</td>\n",
       "      <td>Y93</td>\n",
       "      <td>Android 8.1 Oreo</td>\n",
       "      <td>Dec 27, 2018</td>\n",
       "      <td>4030.0</td>\n",
       "      <td>MediaTek Helio P22</td>\n",
       "      <td>4.0</td>\n",
       "      <td>64.0</td>\n",
       "      <td>microSDXC</td>\n",
       "      <td>6.2</td>\n",
       "      <td>1520 x 720</td>\n",
       "      <td>96.629032</td>\n",
       "      <td>13.0</td>\n",
       "      <td>8</td>\n",
       "    </tr>\n",
       "    <tr>\n",
       "      <th>4537</th>\n",
       "      <td>ARCHOS</td>\n",
       "      <td>50c Oxygen</td>\n",
       "      <td>Android 4.2</td>\n",
       "      <td>Feb 20, 2014</td>\n",
       "      <td>2000.0</td>\n",
       "      <td>MediaTek</td>\n",
       "      <td>1.0</td>\n",
       "      <td>8.0</td>\n",
       "      <td>microSDHC</td>\n",
       "      <td>5.0</td>\n",
       "      <td>1280 x 720</td>\n",
       "      <td>96.629032</td>\n",
       "      <td>8.0</td>\n",
       "      <td>2</td>\n",
       "    </tr>\n",
       "    <tr>\n",
       "      <th>4538</th>\n",
       "      <td>ARCHOS</td>\n",
       "      <td>50c Oxygen</td>\n",
       "      <td>Android 4.2</td>\n",
       "      <td>Feb 20, 2014</td>\n",
       "      <td>2000.0</td>\n",
       "      <td>MediaTek</td>\n",
       "      <td>1.0</td>\n",
       "      <td>8.0</td>\n",
       "      <td>microSDHC</td>\n",
       "      <td>5.0</td>\n",
       "      <td>1280 x 720</td>\n",
       "      <td>96.629032</td>\n",
       "      <td>8.0</td>\n",
       "      <td>2</td>\n",
       "    </tr>\n",
       "  </tbody>\n",
       "</table>\n",
       "</div>"
      ],
      "text/plain": [
       "       Brand       Model                OS  Release_Date  Battery  \\\n",
       "4534    vivo     Y83 Pro  Android 8.1 Oreo  Aug 22, 2018   3260.0   \n",
       "4535    vivo         Y91  Android 8.1 Oreo  Jan 15, 2019   4030.0   \n",
       "4536    vivo         Y93  Android 8.1 Oreo  Dec 27, 2018   4030.0   \n",
       "4537  ARCHOS  50c Oxygen       Android 4.2  Feb 20, 2014   2000.0   \n",
       "4538  ARCHOS  50c Oxygen       Android 4.2  Feb 20, 2014   2000.0   \n",
       "\n",
       "               Processor  Memory  Primary_Storage External_Storage  \\\n",
       "4534  MediaTek Helio P22     4.0             64.0        microSDXC   \n",
       "4535  MediaTek Helio P22     2.0             32.0        microSDXC   \n",
       "4536  MediaTek Helio P22     4.0             64.0        microSDXC   \n",
       "4537            MediaTek     1.0              8.0        microSDHC   \n",
       "4538            MediaTek     1.0              8.0        microSDHC   \n",
       "\n",
       "      Display_Size Display_Resolution  Display_Refresh_Rate  Primary_Camera  \\\n",
       "4534           6.2        1520 x 720              96.629032            13.0   \n",
       "4535           6.2        1520 x 720              96.629032            13.0   \n",
       "4536           6.2        1520 x 720              96.629032            13.0   \n",
       "4537           5.0         1280 x 720             96.629032             8.0   \n",
       "4538           5.0         1280 x 720             96.629032             8.0   \n",
       "\n",
       "     Front_Camera  \n",
       "4534           8   \n",
       "4535           8   \n",
       "4536           8   \n",
       "4537            2  \n",
       "4538            2  "
      ]
     },
     "execution_count": 458,
     "metadata": {},
     "output_type": "execute_result"
    }
   ],
   "source": [
    "df.tail()"
   ]
  },
  {
   "cell_type": "markdown",
   "id": "ef0ea61a-7a05-4481-bebc-dd342abdf659",
   "metadata": {},
   "source": [
    "### Mengecek kembali data terduplikatnya menggunakan fungsi .duplicated()"
   ]
  },
  {
   "cell_type": "code",
   "execution_count": 459,
   "id": "153c8aae-8cf4-4836-8d01-f960e02af5ae",
   "metadata": {},
   "outputs": [
    {
     "data": {
      "text/html": [
       "<div>\n",
       "<style scoped>\n",
       "    .dataframe tbody tr th:only-of-type {\n",
       "        vertical-align: middle;\n",
       "    }\n",
       "\n",
       "    .dataframe tbody tr th {\n",
       "        vertical-align: top;\n",
       "    }\n",
       "\n",
       "    .dataframe thead th {\n",
       "        text-align: right;\n",
       "    }\n",
       "</style>\n",
       "<table border=\"1\" class=\"dataframe\">\n",
       "  <thead>\n",
       "    <tr style=\"text-align: right;\">\n",
       "      <th></th>\n",
       "      <th>Brand</th>\n",
       "      <th>Model</th>\n",
       "      <th>OS</th>\n",
       "      <th>Release_Date</th>\n",
       "      <th>Battery</th>\n",
       "      <th>Processor</th>\n",
       "      <th>Memory</th>\n",
       "      <th>Primary_Storage</th>\n",
       "      <th>External_Storage</th>\n",
       "      <th>Display_Size</th>\n",
       "      <th>Display_Resolution</th>\n",
       "      <th>Display_Refresh_Rate</th>\n",
       "      <th>Primary_Camera</th>\n",
       "      <th>Front_Camera</th>\n",
       "    </tr>\n",
       "  </thead>\n",
       "  <tbody>\n",
       "    <tr>\n",
       "      <th>4538</th>\n",
       "      <td>ARCHOS</td>\n",
       "      <td>50c Oxygen</td>\n",
       "      <td>Android 4.2</td>\n",
       "      <td>Feb 20, 2014</td>\n",
       "      <td>2000.0</td>\n",
       "      <td>MediaTek</td>\n",
       "      <td>1.0</td>\n",
       "      <td>8.0</td>\n",
       "      <td>microSDHC</td>\n",
       "      <td>5.0</td>\n",
       "      <td>1280 x 720</td>\n",
       "      <td>96.629032</td>\n",
       "      <td>8.0</td>\n",
       "      <td>2</td>\n",
       "    </tr>\n",
       "  </tbody>\n",
       "</table>\n",
       "</div>"
      ],
      "text/plain": [
       "       Brand       Model           OS  Release_Date  Battery Processor  \\\n",
       "4538  ARCHOS  50c Oxygen  Android 4.2  Feb 20, 2014   2000.0  MediaTek   \n",
       "\n",
       "      Memory  Primary_Storage External_Storage  Display_Size  \\\n",
       "4538     1.0              8.0        microSDHC           5.0   \n",
       "\n",
       "     Display_Resolution  Display_Refresh_Rate  Primary_Camera Front_Camera  \n",
       "4538         1280 x 720             96.629032             8.0            2  "
      ]
     },
     "execution_count": 459,
     "metadata": {},
     "output_type": "execute_result"
    }
   ],
   "source": [
    "df[df.duplicated()]"
   ]
  },
  {
   "cell_type": "markdown",
   "id": "c9acb404-2ad0-44fa-acdc-803ee4757dd5",
   "metadata": {},
   "source": [
    "### Menghapus data duplikat menggunakan fungsi .drop_duplicates()"
   ]
  },
  {
   "cell_type": "code",
   "execution_count": 460,
   "id": "d085693e-52e2-4c05-9457-2beba884e0bb",
   "metadata": {},
   "outputs": [],
   "source": [
    "df.drop_duplicates(inplace = True)"
   ]
  },
  {
   "cell_type": "markdown",
   "id": "2aee22b3-9bb7-4df7-957d-0146d2da7dde",
   "metadata": {},
   "source": [
    "### Tampilan dataset yang terduplikat setelah dihapus"
   ]
  },
  {
   "cell_type": "code",
   "execution_count": 461,
   "id": "7405c224-10e9-4b03-8330-6f31d6f37436",
   "metadata": {},
   "outputs": [
    {
     "data": {
      "text/html": [
       "<div>\n",
       "<style scoped>\n",
       "    .dataframe tbody tr th:only-of-type {\n",
       "        vertical-align: middle;\n",
       "    }\n",
       "\n",
       "    .dataframe tbody tr th {\n",
       "        vertical-align: top;\n",
       "    }\n",
       "\n",
       "    .dataframe thead th {\n",
       "        text-align: right;\n",
       "    }\n",
       "</style>\n",
       "<table border=\"1\" class=\"dataframe\">\n",
       "  <thead>\n",
       "    <tr style=\"text-align: right;\">\n",
       "      <th></th>\n",
       "      <th>Brand</th>\n",
       "      <th>Model</th>\n",
       "      <th>OS</th>\n",
       "      <th>Release_Date</th>\n",
       "      <th>Battery</th>\n",
       "      <th>Processor</th>\n",
       "      <th>Memory</th>\n",
       "      <th>Primary_Storage</th>\n",
       "      <th>External_Storage</th>\n",
       "      <th>Display_Size</th>\n",
       "      <th>Display_Resolution</th>\n",
       "      <th>Display_Refresh_Rate</th>\n",
       "      <th>Primary_Camera</th>\n",
       "      <th>Front_Camera</th>\n",
       "    </tr>\n",
       "  </thead>\n",
       "  <tbody>\n",
       "  </tbody>\n",
       "</table>\n",
       "</div>"
      ],
      "text/plain": [
       "Empty DataFrame\n",
       "Columns: [Brand, Model, OS, Release_Date, Battery, Processor, Memory, Primary_Storage, External_Storage, Display_Size, Display_Resolution, Display_Refresh_Rate, Primary_Camera, Front_Camera]\n",
       "Index: []"
      ]
     },
     "execution_count": 461,
     "metadata": {},
     "output_type": "execute_result"
    }
   ],
   "source": [
    "df[df.duplicated()]"
   ]
  },
  {
   "cell_type": "code",
   "execution_count": 462,
   "id": "da5654a6-62e2-49d0-ae51-b7402d53add4",
   "metadata": {},
   "outputs": [
    {
     "name": "stdout",
     "output_type": "stream",
     "text": [
      "\n",
      "----------    ++    -------------    ++    ----------\n",
      "\n",
      "    Dataset setelah data yang terduplikat dihapus\n",
      "\n",
      "----------    ++    -------------    ++    ----------\n",
      "\n",
      "0 \n",
      "\n",
      "----------    ++    -------------    ++    ----------\n",
      "\n"
     ]
    }
   ],
   "source": [
    "print(\"\\n----------    ++    -------------    ++    ----------\")\n",
    "print(\"\\n    Dataset setelah data yang terduplikat dihapus\\n\")\n",
    "print(\"----------    ++    -------------    ++    ----------\\n\")\n",
    "print(df.duplicated().sum(), \"\\n\\n----------    ++    -------------    ++    ----------\\n\")"
   ]
  },
  {
   "cell_type": "markdown",
   "id": "df7de06a-b486-41e8-b61d-9457c303a34b",
   "metadata": {},
   "source": [
    "##### ---------------------------------------------------------------------------------------------------------------------------------------------------------------------------------------------------------\n",
    "## Ganti tipe data salah satu attribute angka\n",
    "### --------------------------------------------------------------------------------------------------------------------------------------------  Mengecek tipe data"
   ]
  },
  {
   "cell_type": "code",
   "execution_count": 463,
   "id": "8c9a3227-6d7a-4d5e-9586-5eda422f8d03",
   "metadata": {},
   "outputs": [
    {
     "data": {
      "text/plain": [
       "Brand                    object\n",
       "Model                    object\n",
       "OS                       object\n",
       "Release_Date             object\n",
       "Battery                 float64\n",
       "Processor                object\n",
       "Memory                  float64\n",
       "Primary_Storage         float64\n",
       "External_Storage         object\n",
       "Display_Size            float64\n",
       "Display_Resolution       object\n",
       "Display_Refresh_Rate    float64\n",
       "Primary_Camera          float64\n",
       "Front_Camera             object\n",
       "dtype: object"
      ]
     },
     "execution_count": 463,
     "metadata": {},
     "output_type": "execute_result"
    }
   ],
   "source": [
    "df.dtypes"
   ]
  },
  {
   "cell_type": "code",
   "execution_count": 464,
   "id": "e30447fb-dba6-4cd5-99b0-1d2c79e7242a",
   "metadata": {},
   "outputs": [],
   "source": [
    "df['Primary_Camera'] = df['Primary_Camera'].astype('int64')"
   ]
  },
  {
   "cell_type": "markdown",
   "id": "e243fb57-d886-4def-b6b8-3b4d372dc7e8",
   "metadata": {},
   "source": [
    "### Mengecek kembali tipe data"
   ]
  },
  {
   "cell_type": "code",
   "execution_count": 465,
   "id": "009c2b0d-d510-488e-aa21-e5c1f299b6d0",
   "metadata": {},
   "outputs": [
    {
     "data": {
      "text/plain": [
       "Brand                    object\n",
       "Model                    object\n",
       "OS                       object\n",
       "Release_Date             object\n",
       "Battery                 float64\n",
       "Processor                object\n",
       "Memory                  float64\n",
       "Primary_Storage         float64\n",
       "External_Storage         object\n",
       "Display_Size            float64\n",
       "Display_Resolution       object\n",
       "Display_Refresh_Rate    float64\n",
       "Primary_Camera            int64\n",
       "Front_Camera             object\n",
       "dtype: object"
      ]
     },
     "execution_count": 465,
     "metadata": {},
     "output_type": "execute_result"
    }
   ],
   "source": [
    "df.dtypes"
   ]
  },
  {
   "cell_type": "markdown",
   "id": "3784be92-492b-4225-99f1-1a2994369b3c",
   "metadata": {
    "tags": []
   },
   "source": [
    "##### ---------------------------------------------------------------------------------------------------------------------------------------------------------------------------------------------------------\n",
    "## Lakukan one hot encoding pada dataset yang kalian miliki.\n",
    "### --------------------------------------------------------------------------------------------------------------------------------------------  "
   ]
  },
  {
   "cell_type": "markdown",
   "id": "a65dc662-0e01-4e98-9a50-c905c8961937",
   "metadata": {},
   "source": [
    "### Mengimport fungsi OneHotEncoder"
   ]
  },
  {
   "cell_type": "code",
   "execution_count": 466,
   "id": "78eb5717-6971-46f8-9b8d-77127ecf968b",
   "metadata": {},
   "outputs": [],
   "source": [
    "from sklearn.preprocessing import OneHotEncoder"
   ]
  },
  {
   "cell_type": "code",
   "execution_count": 501,
   "id": "03ef73ad-7134-428e-b141-521a11f8a3f0",
   "metadata": {},
   "outputs": [],
   "source": [
    "oneHEncoder = OneHotEncoder(sparse = False)\n",
    "onehotBrand = oneHEncoder.fit_transform(df[[\"Brand\"]])"
   ]
  },
  {
   "cell_type": "code",
   "execution_count": 502,
   "id": "f24636af-f2f3-4fd3-8473-556baf2b9993",
   "metadata": {},
   "outputs": [],
   "source": [
    "dataonehot = pd.DataFrame(onehotBrand)"
   ]
  },
  {
   "cell_type": "code",
   "execution_count": 503,
   "id": "1e72b031-7e2e-46bf-b98d-589eb4d95d3e",
   "metadata": {},
   "outputs": [],
   "source": [
    "df = df.join(dataonehot)"
   ]
  },
  {
   "cell_type": "code",
   "execution_count": 504,
   "id": "e1b5177f-f5fa-4739-ab69-0a71785edc61",
   "metadata": {},
   "outputs": [
    {
     "data": {
      "text/html": [
       "<div>\n",
       "<style scoped>\n",
       "    .dataframe tbody tr th:only-of-type {\n",
       "        vertical-align: middle;\n",
       "    }\n",
       "\n",
       "    .dataframe tbody tr th {\n",
       "        vertical-align: top;\n",
       "    }\n",
       "\n",
       "    .dataframe thead th {\n",
       "        text-align: right;\n",
       "    }\n",
       "</style>\n",
       "<table border=\"1\" class=\"dataframe\">\n",
       "  <thead>\n",
       "    <tr style=\"text-align: right;\">\n",
       "      <th></th>\n",
       "      <th>Brand</th>\n",
       "      <th>Model</th>\n",
       "      <th>OS</th>\n",
       "      <th>Release_Date</th>\n",
       "      <th>Battery</th>\n",
       "      <th>Processor</th>\n",
       "      <th>Memory</th>\n",
       "      <th>Primary_Storage</th>\n",
       "      <th>External_Storage</th>\n",
       "      <th>Display_Size</th>\n",
       "      <th>...</th>\n",
       "      <th>103</th>\n",
       "      <th>104</th>\n",
       "      <th>105</th>\n",
       "      <th>106</th>\n",
       "      <th>107</th>\n",
       "      <th>108</th>\n",
       "      <th>109</th>\n",
       "      <th>110</th>\n",
       "      <th>111</th>\n",
       "      <th>112</th>\n",
       "    </tr>\n",
       "  </thead>\n",
       "  <tbody>\n",
       "    <tr>\n",
       "      <th>0</th>\n",
       "      <td>ARCHOS</td>\n",
       "      <td>40 Cesium</td>\n",
       "      <td>Windows Phone 8.1</td>\n",
       "      <td>May 01, 2015</td>\n",
       "      <td>1950.0</td>\n",
       "      <td>Qualcomm Snapdragon 200</td>\n",
       "      <td>0.5</td>\n",
       "      <td>4.000000</td>\n",
       "      <td>microSDXC</td>\n",
       "      <td>4.0</td>\n",
       "      <td>...</td>\n",
       "      <td>0.0</td>\n",
       "      <td>0.0</td>\n",
       "      <td>0.0</td>\n",
       "      <td>0.0</td>\n",
       "      <td>0.0</td>\n",
       "      <td>0.0</td>\n",
       "      <td>0.0</td>\n",
       "      <td>0.0</td>\n",
       "      <td>0.0</td>\n",
       "      <td>0.0</td>\n",
       "    </tr>\n",
       "    <tr>\n",
       "      <th>1</th>\n",
       "      <td>ARCHOS</td>\n",
       "      <td>40 Titanium</td>\n",
       "      <td>Android 4.2.2</td>\n",
       "      <td>May 01, 2015</td>\n",
       "      <td>1500.0</td>\n",
       "      <td>MediaTek</td>\n",
       "      <td>0.5</td>\n",
       "      <td>34.296597</td>\n",
       "      <td>microSDHC</td>\n",
       "      <td>4.0</td>\n",
       "      <td>...</td>\n",
       "      <td>0.0</td>\n",
       "      <td>0.0</td>\n",
       "      <td>0.0</td>\n",
       "      <td>0.0</td>\n",
       "      <td>0.0</td>\n",
       "      <td>0.0</td>\n",
       "      <td>0.0</td>\n",
       "      <td>0.0</td>\n",
       "      <td>0.0</td>\n",
       "      <td>0.0</td>\n",
       "    </tr>\n",
       "    <tr>\n",
       "      <th>2</th>\n",
       "      <td>ARCHOS</td>\n",
       "      <td>40b Titanium</td>\n",
       "      <td>Android 4.2.2</td>\n",
       "      <td>May 01, 2015</td>\n",
       "      <td>1400.0</td>\n",
       "      <td>MediaTek</td>\n",
       "      <td>0.5</td>\n",
       "      <td>4.000000</td>\n",
       "      <td>microSD</td>\n",
       "      <td>4.0</td>\n",
       "      <td>...</td>\n",
       "      <td>0.0</td>\n",
       "      <td>0.0</td>\n",
       "      <td>0.0</td>\n",
       "      <td>0.0</td>\n",
       "      <td>0.0</td>\n",
       "      <td>0.0</td>\n",
       "      <td>0.0</td>\n",
       "      <td>0.0</td>\n",
       "      <td>0.0</td>\n",
       "      <td>0.0</td>\n",
       "    </tr>\n",
       "    <tr>\n",
       "      <th>3</th>\n",
       "      <td>ARCHOS</td>\n",
       "      <td>45 Titanium</td>\n",
       "      <td>Android 4.2.2</td>\n",
       "      <td>May 01, 2015</td>\n",
       "      <td>1680.0</td>\n",
       "      <td>MediaTek</td>\n",
       "      <td>0.5</td>\n",
       "      <td>34.296597</td>\n",
       "      <td>microSDHC</td>\n",
       "      <td>4.5</td>\n",
       "      <td>...</td>\n",
       "      <td>0.0</td>\n",
       "      <td>0.0</td>\n",
       "      <td>0.0</td>\n",
       "      <td>0.0</td>\n",
       "      <td>0.0</td>\n",
       "      <td>0.0</td>\n",
       "      <td>0.0</td>\n",
       "      <td>0.0</td>\n",
       "      <td>0.0</td>\n",
       "      <td>0.0</td>\n",
       "    </tr>\n",
       "    <tr>\n",
       "      <th>4</th>\n",
       "      <td>ARCHOS</td>\n",
       "      <td>45b Helium 4G</td>\n",
       "      <td>Android 4.4.4</td>\n",
       "      <td>May 01, 2015</td>\n",
       "      <td>1850.0</td>\n",
       "      <td>Qualcomm Snapdragon 410</td>\n",
       "      <td>0.5</td>\n",
       "      <td>4.000000</td>\n",
       "      <td>microSDXC</td>\n",
       "      <td>4.5</td>\n",
       "      <td>...</td>\n",
       "      <td>0.0</td>\n",
       "      <td>0.0</td>\n",
       "      <td>0.0</td>\n",
       "      <td>0.0</td>\n",
       "      <td>0.0</td>\n",
       "      <td>0.0</td>\n",
       "      <td>0.0</td>\n",
       "      <td>0.0</td>\n",
       "      <td>0.0</td>\n",
       "      <td>0.0</td>\n",
       "    </tr>\n",
       "  </tbody>\n",
       "</table>\n",
       "<p>5 rows × 128 columns</p>\n",
       "</div>"
      ],
      "text/plain": [
       "    Brand          Model                 OS  Release_Date  Battery  \\\n",
       "0  ARCHOS      40 Cesium  Windows Phone 8.1  May 01, 2015   1950.0   \n",
       "1  ARCHOS    40 Titanium      Android 4.2.2  May 01, 2015   1500.0   \n",
       "2  ARCHOS   40b Titanium      Android 4.2.2  May 01, 2015   1400.0   \n",
       "3  ARCHOS    45 Titanium      Android 4.2.2  May 01, 2015   1680.0   \n",
       "4  ARCHOS  45b Helium 4G      Android 4.4.4  May 01, 2015   1850.0   \n",
       "\n",
       "                 Processor  Memory  Primary_Storage External_Storage  \\\n",
       "0  Qualcomm Snapdragon 200     0.5         4.000000        microSDXC   \n",
       "1                 MediaTek     0.5        34.296597        microSDHC   \n",
       "2                 MediaTek     0.5         4.000000          microSD   \n",
       "3                 MediaTek     0.5        34.296597        microSDHC   \n",
       "4  Qualcomm Snapdragon 410     0.5         4.000000        microSDXC   \n",
       "\n",
       "   Display_Size  ...  103  104  105  106  107  108  109  110  111  112  \n",
       "0           4.0  ...  0.0  0.0  0.0  0.0  0.0  0.0  0.0  0.0  0.0  0.0  \n",
       "1           4.0  ...  0.0  0.0  0.0  0.0  0.0  0.0  0.0  0.0  0.0  0.0  \n",
       "2           4.0  ...  0.0  0.0  0.0  0.0  0.0  0.0  0.0  0.0  0.0  0.0  \n",
       "3           4.5  ...  0.0  0.0  0.0  0.0  0.0  0.0  0.0  0.0  0.0  0.0  \n",
       "4           4.5  ...  0.0  0.0  0.0  0.0  0.0  0.0  0.0  0.0  0.0  0.0  \n",
       "\n",
       "[5 rows x 128 columns]"
      ]
     },
     "execution_count": 504,
     "metadata": {},
     "output_type": "execute_result"
    }
   ],
   "source": [
    "df.head()"
   ]
  }
 ],
 "metadata": {
  "kernelspec": {
   "display_name": "Python 3 (ipykernel)",
   "language": "python",
   "name": "python3"
  },
  "language_info": {
   "codemirror_mode": {
    "name": "ipython",
    "version": 3
   },
   "file_extension": ".py",
   "mimetype": "text/x-python",
   "name": "python",
   "nbconvert_exporter": "python",
   "pygments_lexer": "ipython3",
   "version": "3.10.7"
  }
 },
 "nbformat": 4,
 "nbformat_minor": 5
}
