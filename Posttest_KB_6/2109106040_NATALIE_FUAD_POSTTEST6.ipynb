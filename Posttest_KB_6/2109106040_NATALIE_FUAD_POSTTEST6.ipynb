{
 "cells": [
  {
   "cell_type": "markdown",
   "id": "e47fa18e-b7bb-4db8-a6d4-fbf9dbca6720",
   "metadata": {},
   "source": [
    "#### -----------------------------------------------------------------------------------------------------------------------------------\n",
    "### NAMA    : Natalie Fuad\n",
    "### NIM     : 2109106040\n",
    "\n",
    "####\n",
    "### POSTTEST 6 - UNSUPERVISED LEARNING\n",
    "#### -----------------------------------------------------------------------------------------------------------------------------------"
   ]
  },
  {
   "cell_type": "code",
   "execution_count": 63,
   "id": "ff3fefe6-f7f1-42e9-990f-435df732a625",
   "metadata": {},
   "outputs": [],
   "source": [
    "import pandas as pd\n",
    "import numpy as np\n",
    "import seaborn as sns\n",
    "import matplotlib.pyplot as plt"
   ]
  },
  {
   "cell_type": "code",
   "execution_count": 64,
   "id": "5ff8e30c-c716-42dd-a64e-ad070d325ff7",
   "metadata": {},
   "outputs": [],
   "source": [
    "import warnings"
   ]
  },
  {
   "cell_type": "code",
   "execution_count": 65,
   "id": "4d419311-9ca8-4086-bc6e-47f8f1dc7401",
   "metadata": {},
   "outputs": [],
   "source": [
    "warnings.filterwarnings('ignore')"
   ]
  },
  {
   "cell_type": "markdown",
   "id": "978b5417-20dc-4640-8e3a-19912f8a5f77",
   "metadata": {},
   "source": [
    "#### -----------------------------------------------------------------------------------------------------------------------------------\n",
    "## Buatlah model machine learning menggunakan pendekatan Unsupervised Learning dengan ketentuan sebagai berikut:\n",
    "#### Gunakan salah satu algoritma unsupervised learning yang ada\n",
    "#### Tampilkan visualisasi dari hasil model tersebut\n",
    "#### -----------------------------------------------------------------------------------------------------------------------------------"
   ]
  },
  {
   "cell_type": "code",
   "execution_count": 66,
   "id": "11242f90-3bf5-4584-9e91-ac2132d19f2d",
   "metadata": {},
   "outputs": [],
   "source": [
    "df = pd.read_csv(\"Smartphone_Evolution_DataPreprocessing.csv\")"
   ]
  },
  {
   "cell_type": "code",
   "execution_count": 67,
   "id": "511f8357-9ba0-48c6-aacc-a7fb77f9beb2",
   "metadata": {},
   "outputs": [
    {
     "data": {
      "text/html": [
       "<div>\n",
       "<style scoped>\n",
       "    .dataframe tbody tr th:only-of-type {\n",
       "        vertical-align: middle;\n",
       "    }\n",
       "\n",
       "    .dataframe tbody tr th {\n",
       "        vertical-align: top;\n",
       "    }\n",
       "\n",
       "    .dataframe thead th {\n",
       "        text-align: right;\n",
       "    }\n",
       "</style>\n",
       "<table border=\"1\" class=\"dataframe\">\n",
       "  <thead>\n",
       "    <tr style=\"text-align: right;\">\n",
       "      <th></th>\n",
       "      <th>Unnamed: 0</th>\n",
       "      <th>Brand</th>\n",
       "      <th>Model</th>\n",
       "      <th>OS</th>\n",
       "      <th>Release_Date</th>\n",
       "      <th>Battery</th>\n",
       "      <th>Processor</th>\n",
       "      <th>Memory</th>\n",
       "      <th>Primary_Storage</th>\n",
       "      <th>External_Storage</th>\n",
       "      <th>...</th>\n",
       "      <th>103</th>\n",
       "      <th>104</th>\n",
       "      <th>105</th>\n",
       "      <th>106</th>\n",
       "      <th>107</th>\n",
       "      <th>108</th>\n",
       "      <th>109</th>\n",
       "      <th>110</th>\n",
       "      <th>111</th>\n",
       "      <th>112</th>\n",
       "    </tr>\n",
       "  </thead>\n",
       "  <tbody>\n",
       "    <tr>\n",
       "      <th>0</th>\n",
       "      <td>0</td>\n",
       "      <td>ARCHOS</td>\n",
       "      <td>40 Cesium</td>\n",
       "      <td>Windows Phone 8.1</td>\n",
       "      <td>May 01, 2015</td>\n",
       "      <td>1950.0</td>\n",
       "      <td>Qualcomm Snapdragon 200</td>\n",
       "      <td>0.5</td>\n",
       "      <td>4.000000</td>\n",
       "      <td>microSDXC</td>\n",
       "      <td>...</td>\n",
       "      <td>0.0</td>\n",
       "      <td>0.0</td>\n",
       "      <td>0.0</td>\n",
       "      <td>0.0</td>\n",
       "      <td>0.0</td>\n",
       "      <td>0.0</td>\n",
       "      <td>0.0</td>\n",
       "      <td>0.0</td>\n",
       "      <td>0.0</td>\n",
       "      <td>0.0</td>\n",
       "    </tr>\n",
       "    <tr>\n",
       "      <th>1</th>\n",
       "      <td>1</td>\n",
       "      <td>ARCHOS</td>\n",
       "      <td>40 Titanium</td>\n",
       "      <td>Android 4.2.2</td>\n",
       "      <td>May 01, 2015</td>\n",
       "      <td>1500.0</td>\n",
       "      <td>MediaTek</td>\n",
       "      <td>0.5</td>\n",
       "      <td>34.296597</td>\n",
       "      <td>microSDHC</td>\n",
       "      <td>...</td>\n",
       "      <td>0.0</td>\n",
       "      <td>0.0</td>\n",
       "      <td>0.0</td>\n",
       "      <td>0.0</td>\n",
       "      <td>0.0</td>\n",
       "      <td>0.0</td>\n",
       "      <td>0.0</td>\n",
       "      <td>0.0</td>\n",
       "      <td>0.0</td>\n",
       "      <td>0.0</td>\n",
       "    </tr>\n",
       "    <tr>\n",
       "      <th>2</th>\n",
       "      <td>2</td>\n",
       "      <td>ARCHOS</td>\n",
       "      <td>40b Titanium</td>\n",
       "      <td>Android 4.2.2</td>\n",
       "      <td>May 01, 2015</td>\n",
       "      <td>1400.0</td>\n",
       "      <td>MediaTek</td>\n",
       "      <td>0.5</td>\n",
       "      <td>4.000000</td>\n",
       "      <td>microSD</td>\n",
       "      <td>...</td>\n",
       "      <td>0.0</td>\n",
       "      <td>0.0</td>\n",
       "      <td>0.0</td>\n",
       "      <td>0.0</td>\n",
       "      <td>0.0</td>\n",
       "      <td>0.0</td>\n",
       "      <td>0.0</td>\n",
       "      <td>0.0</td>\n",
       "      <td>0.0</td>\n",
       "      <td>0.0</td>\n",
       "    </tr>\n",
       "    <tr>\n",
       "      <th>3</th>\n",
       "      <td>3</td>\n",
       "      <td>ARCHOS</td>\n",
       "      <td>45 Titanium</td>\n",
       "      <td>Android 4.2.2</td>\n",
       "      <td>May 01, 2015</td>\n",
       "      <td>1680.0</td>\n",
       "      <td>MediaTek</td>\n",
       "      <td>0.5</td>\n",
       "      <td>34.296597</td>\n",
       "      <td>microSDHC</td>\n",
       "      <td>...</td>\n",
       "      <td>0.0</td>\n",
       "      <td>0.0</td>\n",
       "      <td>0.0</td>\n",
       "      <td>0.0</td>\n",
       "      <td>0.0</td>\n",
       "      <td>0.0</td>\n",
       "      <td>0.0</td>\n",
       "      <td>0.0</td>\n",
       "      <td>0.0</td>\n",
       "      <td>0.0</td>\n",
       "    </tr>\n",
       "    <tr>\n",
       "      <th>4</th>\n",
       "      <td>4</td>\n",
       "      <td>ARCHOS</td>\n",
       "      <td>45b Helium 4G</td>\n",
       "      <td>Android 4.4.4</td>\n",
       "      <td>May 01, 2015</td>\n",
       "      <td>1850.0</td>\n",
       "      <td>Qualcomm Snapdragon 410</td>\n",
       "      <td>0.5</td>\n",
       "      <td>4.000000</td>\n",
       "      <td>microSDXC</td>\n",
       "      <td>...</td>\n",
       "      <td>0.0</td>\n",
       "      <td>0.0</td>\n",
       "      <td>0.0</td>\n",
       "      <td>0.0</td>\n",
       "      <td>0.0</td>\n",
       "      <td>0.0</td>\n",
       "      <td>0.0</td>\n",
       "      <td>0.0</td>\n",
       "      <td>0.0</td>\n",
       "      <td>0.0</td>\n",
       "    </tr>\n",
       "  </tbody>\n",
       "</table>\n",
       "<p>5 rows × 128 columns</p>\n",
       "</div>"
      ],
      "text/plain": [
       "   Unnamed: 0   Brand          Model                 OS  Release_Date  \\\n",
       "0           0  ARCHOS      40 Cesium  Windows Phone 8.1  May 01, 2015   \n",
       "1           1  ARCHOS    40 Titanium      Android 4.2.2  May 01, 2015   \n",
       "2           2  ARCHOS   40b Titanium      Android 4.2.2  May 01, 2015   \n",
       "3           3  ARCHOS    45 Titanium      Android 4.2.2  May 01, 2015   \n",
       "4           4  ARCHOS  45b Helium 4G      Android 4.4.4  May 01, 2015   \n",
       "\n",
       "   Battery                Processor  Memory  Primary_Storage External_Storage  \\\n",
       "0   1950.0  Qualcomm Snapdragon 200     0.5         4.000000        microSDXC   \n",
       "1   1500.0                 MediaTek     0.5        34.296597        microSDHC   \n",
       "2   1400.0                 MediaTek     0.5         4.000000          microSD   \n",
       "3   1680.0                 MediaTek     0.5        34.296597        microSDHC   \n",
       "4   1850.0  Qualcomm Snapdragon 410     0.5         4.000000        microSDXC   \n",
       "\n",
       "   ...  103  104  105  106  107  108  109  110  111  112  \n",
       "0  ...  0.0  0.0  0.0  0.0  0.0  0.0  0.0  0.0  0.0  0.0  \n",
       "1  ...  0.0  0.0  0.0  0.0  0.0  0.0  0.0  0.0  0.0  0.0  \n",
       "2  ...  0.0  0.0  0.0  0.0  0.0  0.0  0.0  0.0  0.0  0.0  \n",
       "3  ...  0.0  0.0  0.0  0.0  0.0  0.0  0.0  0.0  0.0  0.0  \n",
       "4  ...  0.0  0.0  0.0  0.0  0.0  0.0  0.0  0.0  0.0  0.0  \n",
       "\n",
       "[5 rows x 128 columns]"
      ]
     },
     "execution_count": 67,
     "metadata": {},
     "output_type": "execute_result"
    }
   ],
   "source": [
    "df.head()"
   ]
  },
  {
   "cell_type": "markdown",
   "id": "8720b20f-54d6-4797-b74f-a4e6f42c5c42",
   "metadata": {
    "tags": []
   },
   "source": [
    "## DATA SCALING & PEMBUATAN SUBSET"
   ]
  },
  {
   "cell_type": "code",
   "execution_count": 68,
   "id": "b605584e-addc-4f71-82f0-df051e9c79ef",
   "metadata": {},
   "outputs": [],
   "source": [
    "from sklearn.preprocessing import StandardScaler"
   ]
  },
  {
   "cell_type": "code",
   "execution_count": 69,
   "id": "208b4050-f09d-45ab-a658-48d9656eb4f2",
   "metadata": {},
   "outputs": [],
   "source": [
    "subset = df[['Memory', 'Primary_Storage']]"
   ]
  },
  {
   "cell_type": "code",
   "execution_count": 70,
   "id": "a3fd2b9e-dc84-4012-ac41-08e86546c863",
   "metadata": {},
   "outputs": [],
   "source": [
    "ss = StandardScaler()"
   ]
  },
  {
   "cell_type": "code",
   "execution_count": 71,
   "id": "2d062e3a-fb75-4173-986f-7fb1f81f23e3",
   "metadata": {},
   "outputs": [],
   "source": [
    "x_scaling = ss.fit_transform(subset)"
   ]
  },
  {
   "cell_type": "markdown",
   "id": "d0ff0550-834b-4ea3-b9f1-d3966d129f80",
   "metadata": {},
   "source": [
    "# HIERARCHICAL"
   ]
  },
  {
   "cell_type": "markdown",
   "id": "6861a74d-cce1-4660-a06a-7c100daec561",
   "metadata": {},
   "source": [
    "# Agglomerative clustering menggunakan scipy"
   ]
  },
  {
   "cell_type": "code",
   "execution_count": 72,
   "id": "82ae46cb-20c5-4623-986e-e263bdf38a1a",
   "metadata": {},
   "outputs": [],
   "source": [
    "from scipy.cluster.hierarchy import dendrogram, linkage"
   ]
  },
  {
   "cell_type": "markdown",
   "id": "6deeaafc-3549-43b8-9e55-76f08afa7c60",
   "metadata": {},
   "source": [
    "## Membuat struktur hirarkinya"
   ]
  },
  {
   "cell_type": "code",
   "execution_count": 73,
   "id": "99d2fe27-ce85-4487-aa2b-9322f0772b31",
   "metadata": {
    "tags": []
   },
   "outputs": [
    {
     "name": "stdout",
     "output_type": "stream",
     "text": [
      "\n",
      "----------    ++    -------------    ++    ----------\n",
      "\n",
      "       Dataset sebelum dilakukan data cleaning\n",
      "\n",
      "----------    ++    -------------    ++    ----------\n",
      "\n",
      "[[0.00000000e+00 2.00000000e+00 0.00000000e+00 2.00000000e+00]\n",
      " [1.00000000e+00 3.00000000e+00 0.00000000e+00 2.00000000e+00]\n",
      " [4.00000000e+00 4.53800000e+03 0.00000000e+00 3.00000000e+00]\n",
      " ...\n",
      " [9.06800000e+03 9.07000000e+03 7.60773829e+00 5.00000000e+01]\n",
      " [9.07100000e+03 9.07200000e+03 1.25625352e+01 4.53700000e+03]\n",
      " [8.28000000e+02 9.07300000e+03 1.47306785e+01 4.53800000e+03]] \n",
      "\n",
      "----------    ++    -------------    ++    ----------\n",
      "\n"
     ]
    }
   ],
   "source": [
    "merge = linkage(x_scaling, method = \"complete\")\n",
    "\n",
    "print(\"\\n----------    ++    -------------    ++    ----------\")\n",
    "print(\"\\n       Dataset sebelum dilakukan data cleaning\\n\")\n",
    "print(\"----------    ++    -------------    ++    ----------\\n\")\n",
    "print(merge, \"\\n\\n----------    ++    -------------    ++    ----------\\n\")"
   ]
  },
  {
   "cell_type": "markdown",
   "id": "a0d9b0e9-0860-4208-8c80-18140c4ed881",
   "metadata": {},
   "source": [
    "### Menggambil label dari cluster hierarki"
   ]
  },
  {
   "cell_type": "code",
   "execution_count": 74,
   "id": "0e2d17e9-2e4d-46b9-a122-91ed8ba63c41",
   "metadata": {},
   "outputs": [],
   "source": [
    "from scipy.cluster.hierarchy import fcluster"
   ]
  },
  {
   "cell_type": "code",
   "execution_count": 80,
   "id": "01efcf60-4680-4b4b-9105-3c647d42b18d",
   "metadata": {},
   "outputs": [],
   "source": [
    "flabels = fcluster(merge, 5, criterion = 'distance')"
   ]
  },
  {
   "cell_type": "code",
   "execution_count": 81,
   "id": "0cea163a-e00a-4fc5-8aeb-a35bcc41b54c",
   "metadata": {},
   "outputs": [],
   "source": [
    "dfhierarki = pd.DataFrame({'labels': flabels, 'External_Storage': df.External_Storage})"
   ]
  },
  {
   "cell_type": "code",
   "execution_count": 82,
   "id": "98cc3900-c181-4e15-b06b-fb16730370a4",
   "metadata": {},
   "outputs": [],
   "source": [
    "ct2 = pd.crosstab(dfhierarki[\"labels\"], dfhierarki[\"External_Storage\"])"
   ]
  },
  {
   "cell_type": "markdown",
   "id": "71c464ff-2aaa-4644-be00-d9a58f08ac19",
   "metadata": {},
   "source": [
    "# Visualisasi cluster menggunakan fcluster"
   ]
  },
  {
   "cell_type": "code",
   "execution_count": 83,
   "id": "77f3f1cf-2ce3-42ed-a979-211b35e3793c",
   "metadata": {},
   "outputs": [
    {
     "data": {
      "text/html": [
       "<div>\n",
       "<style scoped>\n",
       "    .dataframe tbody tr th:only-of-type {\n",
       "        vertical-align: middle;\n",
       "    }\n",
       "\n",
       "    .dataframe tbody tr th {\n",
       "        vertical-align: top;\n",
       "    }\n",
       "\n",
       "    .dataframe thead th {\n",
       "        text-align: right;\n",
       "    }\n",
       "</style>\n",
       "<table border=\"1\" class=\"dataframe\">\n",
       "  <thead>\n",
       "    <tr style=\"text-align: right;\">\n",
       "      <th></th>\n",
       "      <th>Memory</th>\n",
       "      <th>Primary_Storage</th>\n",
       "      <th>labels</th>\n",
       "    </tr>\n",
       "  </thead>\n",
       "  <tbody>\n",
       "    <tr>\n",
       "      <th>0</th>\n",
       "      <td>0.5</td>\n",
       "      <td>4.000000</td>\n",
       "      <td>2</td>\n",
       "    </tr>\n",
       "    <tr>\n",
       "      <th>1</th>\n",
       "      <td>0.5</td>\n",
       "      <td>34.296597</td>\n",
       "      <td>2</td>\n",
       "    </tr>\n",
       "    <tr>\n",
       "      <th>2</th>\n",
       "      <td>0.5</td>\n",
       "      <td>4.000000</td>\n",
       "      <td>2</td>\n",
       "    </tr>\n",
       "    <tr>\n",
       "      <th>3</th>\n",
       "      <td>0.5</td>\n",
       "      <td>34.296597</td>\n",
       "      <td>2</td>\n",
       "    </tr>\n",
       "    <tr>\n",
       "      <th>4</th>\n",
       "      <td>0.5</td>\n",
       "      <td>4.000000</td>\n",
       "      <td>2</td>\n",
       "    </tr>\n",
       "    <tr>\n",
       "      <th>...</th>\n",
       "      <td>...</td>\n",
       "      <td>...</td>\n",
       "      <td>...</td>\n",
       "    </tr>\n",
       "    <tr>\n",
       "      <th>4533</th>\n",
       "      <td>4.0</td>\n",
       "      <td>128.000000</td>\n",
       "      <td>2</td>\n",
       "    </tr>\n",
       "    <tr>\n",
       "      <th>4534</th>\n",
       "      <td>4.0</td>\n",
       "      <td>64.000000</td>\n",
       "      <td>2</td>\n",
       "    </tr>\n",
       "    <tr>\n",
       "      <th>4535</th>\n",
       "      <td>2.0</td>\n",
       "      <td>32.000000</td>\n",
       "      <td>2</td>\n",
       "    </tr>\n",
       "    <tr>\n",
       "      <th>4536</th>\n",
       "      <td>4.0</td>\n",
       "      <td>64.000000</td>\n",
       "      <td>2</td>\n",
       "    </tr>\n",
       "    <tr>\n",
       "      <th>4537</th>\n",
       "      <td>1.0</td>\n",
       "      <td>8.000000</td>\n",
       "      <td>2</td>\n",
       "    </tr>\n",
       "  </tbody>\n",
       "</table>\n",
       "<p>4538 rows × 3 columns</p>\n",
       "</div>"
      ],
      "text/plain": [
       "      Memory  Primary_Storage  labels\n",
       "0        0.5         4.000000       2\n",
       "1        0.5        34.296597       2\n",
       "2        0.5         4.000000       2\n",
       "3        0.5        34.296597       2\n",
       "4        0.5         4.000000       2\n",
       "...      ...              ...     ...\n",
       "4533     4.0       128.000000       2\n",
       "4534     4.0        64.000000       2\n",
       "4535     2.0        32.000000       2\n",
       "4536     4.0        64.000000       2\n",
       "4537     1.0         8.000000       2\n",
       "\n",
       "[4538 rows x 3 columns]"
      ]
     },
     "execution_count": 83,
     "metadata": {},
     "output_type": "execute_result"
    }
   ],
   "source": [
    "subset[\"labels\"] = flabels\n",
    "subset"
   ]
  },
  {
   "cell_type": "code",
   "execution_count": 85,
   "id": "191d7437-ceaa-4b03-9210-9961f4308e55",
   "metadata": {},
   "outputs": [
    {
     "data": {
      "image/png": "[encoded data removed]",
      "text/plain": [
       "<Figure size 1500x1000 with 1 Axes>"
      ]
     },
     "metadata": {},
     "output_type": "display_data"
    }
   ],
   "source": [
    "plt.figure(figsize=(15,10))\n",
    "sns.scatterplot(x = \"Memory\",\n",
    "                y = \"Primary_Storage\",\n",
    "                data = subset,\n",
    "                hue = \"labels\",\n",
    "                s = 75,\n",
    "                alpha = 0.5)\n",
    "\n",
    "plt.show()"
   ]
  },
  {
   "cell_type": "code",
   "execution_count": null,
   "id": "9b72c582-eee1-4d53-861a-3782e77cff84",
   "metadata": {},
   "outputs": [],
   "source": []
  }
 ],
 "metadata": {
  "kernelspec": {
   "display_name": "Python 3 (ipykernel)",
   "language": "python",
   "name": "python3"
  },
  "language_info": {
   "codemirror_mode": {
    "name": "ipython",
    "version": 3
   },
   "file_extension": ".py",
   "mimetype": "text/x-python",
   "name": "python",
   "nbconvert_exporter": "python",
   "pygments_lexer": "ipython3",
   "version": "3.10.7"
  }
 },
 "nbformat": 4,
 "nbformat_minor": 5
}
